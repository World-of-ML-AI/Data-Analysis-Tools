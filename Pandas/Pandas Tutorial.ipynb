{
 "cells": [
  {
   "cell_type": "markdown",
   "id": "c92bdb8b",
   "metadata": {},
   "source": [
    "# Pandas Complete Tutorial\n",
    "### By Samrat Mitra (https://www.github.com/lionelsamrat10)"
   ]
  },
  {
   "cell_type": "markdown",
   "id": "3527f5ee",
   "metadata": {},
   "source": [
    "## Import Libraries"
   ]
  },
  {
   "cell_type": "code",
   "execution_count": 1,
   "id": "a833ea86",
   "metadata": {},
   "outputs": [],
   "source": [
    "import pandas as pd\n",
    "import numpy as np"
   ]
  },
  {
   "cell_type": "markdown",
   "id": "f4188912",
   "metadata": {},
   "source": [
    "## Create a Dictionary in Python"
   ]
  },
  {
   "cell_type": "code",
   "execution_count": 4,
   "id": "3bfb263b",
   "metadata": {},
   "outputs": [],
   "source": [
    "dict1 = {\n",
    "    \"name\": ['Samrat', 'Sarah', 'Dave', 'Sophie'],\n",
    "    \"marks\": [50, 49, 47, 50],\n",
    "    \"city\": ['Jalpaiguri', 'Los Angeles', 'Montreal', 'London']\n",
    "}"
   ]
  },
  {
   "cell_type": "markdown",
   "id": "37db35e4",
   "metadata": {},
   "source": [
    "## Convert the Dictionary to a Dataframe"
   ]
  },
  {
   "cell_type": "markdown",
   "id": "f65b99b4",
   "metadata": {},
   "source": [
    "***Convert the dictionary dict1 to a dataframe***"
   ]
  },
  {
   "cell_type": "code",
   "execution_count": 5,
   "id": "46d95623",
   "metadata": {},
   "outputs": [],
   "source": [
    "df = pd.DataFrame(dict1)"
   ]
  },
  {
   "cell_type": "markdown",
   "id": "3065c722",
   "metadata": {},
   "source": [
    "***Print the Dataframe***"
   ]
  },
  {
   "cell_type": "code",
   "execution_count": 8,
   "id": "25cc04b5",
   "metadata": {},
   "outputs": [
    {
     "data": {
      "text/html": [
       "<div>\n",
       "<style scoped>\n",
       "    .dataframe tbody tr th:only-of-type {\n",
       "        vertical-align: middle;\n",
       "    }\n",
       "\n",
       "    .dataframe tbody tr th {\n",
       "        vertical-align: top;\n",
       "    }\n",
       "\n",
       "    .dataframe thead th {\n",
       "        text-align: right;\n",
       "    }\n",
       "</style>\n",
       "<table border=\"1\" class=\"dataframe\">\n",
       "  <thead>\n",
       "    <tr style=\"text-align: right;\">\n",
       "      <th></th>\n",
       "      <th>name</th>\n",
       "      <th>marks</th>\n",
       "      <th>city</th>\n",
       "    </tr>\n",
       "  </thead>\n",
       "  <tbody>\n",
       "    <tr>\n",
       "      <th>0</th>\n",
       "      <td>Samrat</td>\n",
       "      <td>50</td>\n",
       "      <td>Jalpaiguri</td>\n",
       "    </tr>\n",
       "    <tr>\n",
       "      <th>1</th>\n",
       "      <td>Sarah</td>\n",
       "      <td>49</td>\n",
       "      <td>Los Angeles</td>\n",
       "    </tr>\n",
       "    <tr>\n",
       "      <th>2</th>\n",
       "      <td>Dave</td>\n",
       "      <td>47</td>\n",
       "      <td>Montreal</td>\n",
       "    </tr>\n",
       "    <tr>\n",
       "      <th>3</th>\n",
       "      <td>Sophie</td>\n",
       "      <td>50</td>\n",
       "      <td>London</td>\n",
       "    </tr>\n",
       "  </tbody>\n",
       "</table>\n",
       "</div>"
      ],
      "text/plain": [
       "     name  marks         city\n",
       "0  Samrat     50   Jalpaiguri\n",
       "1   Sarah     49  Los Angeles\n",
       "2    Dave     47     Montreal\n",
       "3  Sophie     50       London"
      ]
     },
     "execution_count": 8,
     "metadata": {},
     "output_type": "execute_result"
    }
   ],
   "source": [
    "df"
   ]
  },
  {
   "cell_type": "markdown",
   "id": "ecfb60f1",
   "metadata": {},
   "source": [
    "***Convert the dataframe to csv file***"
   ]
  },
  {
   "cell_type": "code",
   "execution_count": 11,
   "id": "bd470a23",
   "metadata": {},
   "outputs": [],
   "source": [
    "df.to_csv('students.csv', index = False) # The data will not have any index values"
   ]
  },
  {
   "cell_type": "markdown",
   "id": "cd21c09f",
   "metadata": {},
   "source": [
    "## Get the first few rows of a dataframe"
   ]
  },
  {
   "cell_type": "code",
   "execution_count": 12,
   "id": "bb9b0b68",
   "metadata": {},
   "outputs": [
    {
     "data": {
      "text/html": [
       "<div>\n",
       "<style scoped>\n",
       "    .dataframe tbody tr th:only-of-type {\n",
       "        vertical-align: middle;\n",
       "    }\n",
       "\n",
       "    .dataframe tbody tr th {\n",
       "        vertical-align: top;\n",
       "    }\n",
       "\n",
       "    .dataframe thead th {\n",
       "        text-align: right;\n",
       "    }\n",
       "</style>\n",
       "<table border=\"1\" class=\"dataframe\">\n",
       "  <thead>\n",
       "    <tr style=\"text-align: right;\">\n",
       "      <th></th>\n",
       "      <th>name</th>\n",
       "      <th>marks</th>\n",
       "      <th>city</th>\n",
       "    </tr>\n",
       "  </thead>\n",
       "  <tbody>\n",
       "    <tr>\n",
       "      <th>0</th>\n",
       "      <td>Samrat</td>\n",
       "      <td>50</td>\n",
       "      <td>Jalpaiguri</td>\n",
       "    </tr>\n",
       "    <tr>\n",
       "      <th>1</th>\n",
       "      <td>Sarah</td>\n",
       "      <td>49</td>\n",
       "      <td>Los Angeles</td>\n",
       "    </tr>\n",
       "  </tbody>\n",
       "</table>\n",
       "</div>"
      ],
      "text/plain": [
       "     name  marks         city\n",
       "0  Samrat     50   Jalpaiguri\n",
       "1   Sarah     49  Los Angeles"
      ]
     },
     "execution_count": 12,
     "metadata": {},
     "output_type": "execute_result"
    }
   ],
   "source": [
    "df.head(2)"
   ]
  },
  {
   "cell_type": "markdown",
   "id": "e94431ff",
   "metadata": {},
   "source": [
    "## Get the last few rows of a dataframe"
   ]
  },
  {
   "cell_type": "code",
   "execution_count": 13,
   "id": "bd8d829b",
   "metadata": {},
   "outputs": [
    {
     "data": {
      "text/html": [
       "<div>\n",
       "<style scoped>\n",
       "    .dataframe tbody tr th:only-of-type {\n",
       "        vertical-align: middle;\n",
       "    }\n",
       "\n",
       "    .dataframe tbody tr th {\n",
       "        vertical-align: top;\n",
       "    }\n",
       "\n",
       "    .dataframe thead th {\n",
       "        text-align: right;\n",
       "    }\n",
       "</style>\n",
       "<table border=\"1\" class=\"dataframe\">\n",
       "  <thead>\n",
       "    <tr style=\"text-align: right;\">\n",
       "      <th></th>\n",
       "      <th>name</th>\n",
       "      <th>marks</th>\n",
       "      <th>city</th>\n",
       "    </tr>\n",
       "  </thead>\n",
       "  <tbody>\n",
       "    <tr>\n",
       "      <th>2</th>\n",
       "      <td>Dave</td>\n",
       "      <td>47</td>\n",
       "      <td>Montreal</td>\n",
       "    </tr>\n",
       "    <tr>\n",
       "      <th>3</th>\n",
       "      <td>Sophie</td>\n",
       "      <td>50</td>\n",
       "      <td>London</td>\n",
       "    </tr>\n",
       "  </tbody>\n",
       "</table>\n",
       "</div>"
      ],
      "text/plain": [
       "     name  marks      city\n",
       "2    Dave     47  Montreal\n",
       "3  Sophie     50    London"
      ]
     },
     "execution_count": 13,
     "metadata": {},
     "output_type": "execute_result"
    }
   ],
   "source": [
    "df.tail(2)"
   ]
  },
  {
   "cell_type": "markdown",
   "id": "6710f776",
   "metadata": {},
   "source": [
    "## Get the shape of the dataframe"
   ]
  },
  {
   "cell_type": "code",
   "execution_count": 14,
   "id": "b015833a",
   "metadata": {},
   "outputs": [
    {
     "data": {
      "text/plain": [
       "(4, 3)"
      ]
     },
     "execution_count": 14,
     "metadata": {},
     "output_type": "execute_result"
    }
   ],
   "source": [
    "df.shape"
   ]
  },
  {
   "cell_type": "markdown",
   "id": "0bfef423",
   "metadata": {},
   "source": [
    "## Get the Description of the data"
   ]
  },
  {
   "cell_type": "code",
   "execution_count": 17,
   "id": "bb58564c",
   "metadata": {},
   "outputs": [
    {
     "data": {
      "text/html": [
       "<div>\n",
       "<style scoped>\n",
       "    .dataframe tbody tr th:only-of-type {\n",
       "        vertical-align: middle;\n",
       "    }\n",
       "\n",
       "    .dataframe tbody tr th {\n",
       "        vertical-align: top;\n",
       "    }\n",
       "\n",
       "    .dataframe thead th {\n",
       "        text-align: right;\n",
       "    }\n",
       "</style>\n",
       "<table border=\"1\" class=\"dataframe\">\n",
       "  <thead>\n",
       "    <tr style=\"text-align: right;\">\n",
       "      <th></th>\n",
       "      <th>marks</th>\n",
       "    </tr>\n",
       "  </thead>\n",
       "  <tbody>\n",
       "    <tr>\n",
       "      <th>count</th>\n",
       "      <td>4.000000</td>\n",
       "    </tr>\n",
       "    <tr>\n",
       "      <th>mean</th>\n",
       "      <td>49.000000</td>\n",
       "    </tr>\n",
       "    <tr>\n",
       "      <th>std</th>\n",
       "      <td>1.414214</td>\n",
       "    </tr>\n",
       "    <tr>\n",
       "      <th>min</th>\n",
       "      <td>47.000000</td>\n",
       "    </tr>\n",
       "    <tr>\n",
       "      <th>25%</th>\n",
       "      <td>48.500000</td>\n",
       "    </tr>\n",
       "    <tr>\n",
       "      <th>50%</th>\n",
       "      <td>49.500000</td>\n",
       "    </tr>\n",
       "    <tr>\n",
       "      <th>75%</th>\n",
       "      <td>50.000000</td>\n",
       "    </tr>\n",
       "    <tr>\n",
       "      <th>max</th>\n",
       "      <td>50.000000</td>\n",
       "    </tr>\n",
       "  </tbody>\n",
       "</table>\n",
       "</div>"
      ],
      "text/plain": [
       "           marks\n",
       "count   4.000000\n",
       "mean   49.000000\n",
       "std     1.414214\n",
       "min    47.000000\n",
       "25%    48.500000\n",
       "50%    49.500000\n",
       "75%    50.000000\n",
       "max    50.000000"
      ]
     },
     "execution_count": 17,
     "metadata": {},
     "output_type": "execute_result"
    }
   ],
   "source": [
    "df.describe() # Performs statistical analysis on the data"
   ]
  },
  {
   "cell_type": "markdown",
   "id": "ac8f38b7",
   "metadata": {},
   "source": [
    "## Read a CSV File"
   ]
  },
  {
   "cell_type": "code",
   "execution_count": 18,
   "id": "a3314934",
   "metadata": {},
   "outputs": [],
   "source": [
    "dataframe = pd.read_csv('Salary_Data.csv')"
   ]
  },
  {
   "cell_type": "code",
   "execution_count": 19,
   "id": "978899c7",
   "metadata": {},
   "outputs": [
    {
     "data": {
      "text/html": [
       "<div>\n",
       "<style scoped>\n",
       "    .dataframe tbody tr th:only-of-type {\n",
       "        vertical-align: middle;\n",
       "    }\n",
       "\n",
       "    .dataframe tbody tr th {\n",
       "        vertical-align: top;\n",
       "    }\n",
       "\n",
       "    .dataframe thead th {\n",
       "        text-align: right;\n",
       "    }\n",
       "</style>\n",
       "<table border=\"1\" class=\"dataframe\">\n",
       "  <thead>\n",
       "    <tr style=\"text-align: right;\">\n",
       "      <th></th>\n",
       "      <th>YearsExperience</th>\n",
       "      <th>Salary</th>\n",
       "    </tr>\n",
       "  </thead>\n",
       "  <tbody>\n",
       "    <tr>\n",
       "      <th>0</th>\n",
       "      <td>1.1</td>\n",
       "      <td>39343.0</td>\n",
       "    </tr>\n",
       "    <tr>\n",
       "      <th>1</th>\n",
       "      <td>1.3</td>\n",
       "      <td>46205.0</td>\n",
       "    </tr>\n",
       "    <tr>\n",
       "      <th>2</th>\n",
       "      <td>1.5</td>\n",
       "      <td>37731.0</td>\n",
       "    </tr>\n",
       "    <tr>\n",
       "      <th>3</th>\n",
       "      <td>2.0</td>\n",
       "      <td>43525.0</td>\n",
       "    </tr>\n",
       "    <tr>\n",
       "      <th>4</th>\n",
       "      <td>2.2</td>\n",
       "      <td>39891.0</td>\n",
       "    </tr>\n",
       "    <tr>\n",
       "      <th>5</th>\n",
       "      <td>2.9</td>\n",
       "      <td>56642.0</td>\n",
       "    </tr>\n",
       "    <tr>\n",
       "      <th>6</th>\n",
       "      <td>3.0</td>\n",
       "      <td>60150.0</td>\n",
       "    </tr>\n",
       "    <tr>\n",
       "      <th>7</th>\n",
       "      <td>3.2</td>\n",
       "      <td>54445.0</td>\n",
       "    </tr>\n",
       "    <tr>\n",
       "      <th>8</th>\n",
       "      <td>3.2</td>\n",
       "      <td>64445.0</td>\n",
       "    </tr>\n",
       "    <tr>\n",
       "      <th>9</th>\n",
       "      <td>3.7</td>\n",
       "      <td>57189.0</td>\n",
       "    </tr>\n",
       "    <tr>\n",
       "      <th>10</th>\n",
       "      <td>3.9</td>\n",
       "      <td>63218.0</td>\n",
       "    </tr>\n",
       "    <tr>\n",
       "      <th>11</th>\n",
       "      <td>4.0</td>\n",
       "      <td>55794.0</td>\n",
       "    </tr>\n",
       "    <tr>\n",
       "      <th>12</th>\n",
       "      <td>4.0</td>\n",
       "      <td>56957.0</td>\n",
       "    </tr>\n",
       "    <tr>\n",
       "      <th>13</th>\n",
       "      <td>4.1</td>\n",
       "      <td>57081.0</td>\n",
       "    </tr>\n",
       "    <tr>\n",
       "      <th>14</th>\n",
       "      <td>4.5</td>\n",
       "      <td>61111.0</td>\n",
       "    </tr>\n",
       "    <tr>\n",
       "      <th>15</th>\n",
       "      <td>4.9</td>\n",
       "      <td>67938.0</td>\n",
       "    </tr>\n",
       "    <tr>\n",
       "      <th>16</th>\n",
       "      <td>5.1</td>\n",
       "      <td>66029.0</td>\n",
       "    </tr>\n",
       "    <tr>\n",
       "      <th>17</th>\n",
       "      <td>5.3</td>\n",
       "      <td>83088.0</td>\n",
       "    </tr>\n",
       "    <tr>\n",
       "      <th>18</th>\n",
       "      <td>5.9</td>\n",
       "      <td>81363.0</td>\n",
       "    </tr>\n",
       "    <tr>\n",
       "      <th>19</th>\n",
       "      <td>6.0</td>\n",
       "      <td>93940.0</td>\n",
       "    </tr>\n",
       "    <tr>\n",
       "      <th>20</th>\n",
       "      <td>6.8</td>\n",
       "      <td>91738.0</td>\n",
       "    </tr>\n",
       "    <tr>\n",
       "      <th>21</th>\n",
       "      <td>7.1</td>\n",
       "      <td>98273.0</td>\n",
       "    </tr>\n",
       "    <tr>\n",
       "      <th>22</th>\n",
       "      <td>7.9</td>\n",
       "      <td>101302.0</td>\n",
       "    </tr>\n",
       "    <tr>\n",
       "      <th>23</th>\n",
       "      <td>8.2</td>\n",
       "      <td>113812.0</td>\n",
       "    </tr>\n",
       "    <tr>\n",
       "      <th>24</th>\n",
       "      <td>8.7</td>\n",
       "      <td>109431.0</td>\n",
       "    </tr>\n",
       "    <tr>\n",
       "      <th>25</th>\n",
       "      <td>9.0</td>\n",
       "      <td>105582.0</td>\n",
       "    </tr>\n",
       "    <tr>\n",
       "      <th>26</th>\n",
       "      <td>9.5</td>\n",
       "      <td>116969.0</td>\n",
       "    </tr>\n",
       "    <tr>\n",
       "      <th>27</th>\n",
       "      <td>9.6</td>\n",
       "      <td>112635.0</td>\n",
       "    </tr>\n",
       "    <tr>\n",
       "      <th>28</th>\n",
       "      <td>10.3</td>\n",
       "      <td>122391.0</td>\n",
       "    </tr>\n",
       "    <tr>\n",
       "      <th>29</th>\n",
       "      <td>10.5</td>\n",
       "      <td>121872.0</td>\n",
       "    </tr>\n",
       "  </tbody>\n",
       "</table>\n",
       "</div>"
      ],
      "text/plain": [
       "    YearsExperience    Salary\n",
       "0               1.1   39343.0\n",
       "1               1.3   46205.0\n",
       "2               1.5   37731.0\n",
       "3               2.0   43525.0\n",
       "4               2.2   39891.0\n",
       "5               2.9   56642.0\n",
       "6               3.0   60150.0\n",
       "7               3.2   54445.0\n",
       "8               3.2   64445.0\n",
       "9               3.7   57189.0\n",
       "10              3.9   63218.0\n",
       "11              4.0   55794.0\n",
       "12              4.0   56957.0\n",
       "13              4.1   57081.0\n",
       "14              4.5   61111.0\n",
       "15              4.9   67938.0\n",
       "16              5.1   66029.0\n",
       "17              5.3   83088.0\n",
       "18              5.9   81363.0\n",
       "19              6.0   93940.0\n",
       "20              6.8   91738.0\n",
       "21              7.1   98273.0\n",
       "22              7.9  101302.0\n",
       "23              8.2  113812.0\n",
       "24              8.7  109431.0\n",
       "25              9.0  105582.0\n",
       "26              9.5  116969.0\n",
       "27              9.6  112635.0\n",
       "28             10.3  122391.0\n",
       "29             10.5  121872.0"
      ]
     },
     "execution_count": 19,
     "metadata": {},
     "output_type": "execute_result"
    }
   ],
   "source": [
    "dataframe"
   ]
  },
  {
   "cell_type": "code",
   "execution_count": 21,
   "id": "a4212283",
   "metadata": {},
   "outputs": [
    {
     "data": {
      "text/html": [
       "<div>\n",
       "<style scoped>\n",
       "    .dataframe tbody tr th:only-of-type {\n",
       "        vertical-align: middle;\n",
       "    }\n",
       "\n",
       "    .dataframe tbody tr th {\n",
       "        vertical-align: top;\n",
       "    }\n",
       "\n",
       "    .dataframe thead th {\n",
       "        text-align: right;\n",
       "    }\n",
       "</style>\n",
       "<table border=\"1\" class=\"dataframe\">\n",
       "  <thead>\n",
       "    <tr style=\"text-align: right;\">\n",
       "      <th></th>\n",
       "      <th>YearsExperience</th>\n",
       "      <th>Salary</th>\n",
       "    </tr>\n",
       "  </thead>\n",
       "  <tbody>\n",
       "    <tr>\n",
       "      <th>count</th>\n",
       "      <td>30.000000</td>\n",
       "      <td>30.000000</td>\n",
       "    </tr>\n",
       "    <tr>\n",
       "      <th>mean</th>\n",
       "      <td>5.313333</td>\n",
       "      <td>76003.000000</td>\n",
       "    </tr>\n",
       "    <tr>\n",
       "      <th>std</th>\n",
       "      <td>2.837888</td>\n",
       "      <td>27414.429785</td>\n",
       "    </tr>\n",
       "    <tr>\n",
       "      <th>min</th>\n",
       "      <td>1.100000</td>\n",
       "      <td>37731.000000</td>\n",
       "    </tr>\n",
       "    <tr>\n",
       "      <th>25%</th>\n",
       "      <td>3.200000</td>\n",
       "      <td>56720.750000</td>\n",
       "    </tr>\n",
       "    <tr>\n",
       "      <th>50%</th>\n",
       "      <td>4.700000</td>\n",
       "      <td>65237.000000</td>\n",
       "    </tr>\n",
       "    <tr>\n",
       "      <th>75%</th>\n",
       "      <td>7.700000</td>\n",
       "      <td>100544.750000</td>\n",
       "    </tr>\n",
       "    <tr>\n",
       "      <th>max</th>\n",
       "      <td>10.500000</td>\n",
       "      <td>122391.000000</td>\n",
       "    </tr>\n",
       "  </tbody>\n",
       "</table>\n",
       "</div>"
      ],
      "text/plain": [
       "       YearsExperience         Salary\n",
       "count        30.000000      30.000000\n",
       "mean          5.313333   76003.000000\n",
       "std           2.837888   27414.429785\n",
       "min           1.100000   37731.000000\n",
       "25%           3.200000   56720.750000\n",
       "50%           4.700000   65237.000000\n",
       "75%           7.700000  100544.750000\n",
       "max          10.500000  122391.000000"
      ]
     },
     "execution_count": 21,
     "metadata": {},
     "output_type": "execute_result"
    }
   ],
   "source": [
    "dataframe.describe()"
   ]
  },
  {
   "cell_type": "code",
   "execution_count": 22,
   "id": "52258f43",
   "metadata": {},
   "outputs": [
    {
     "data": {
      "text/plain": [
       "(30, 2)"
      ]
     },
     "execution_count": 22,
     "metadata": {},
     "output_type": "execute_result"
    }
   ],
   "source": [
    "dataframe.shape"
   ]
  },
  {
   "cell_type": "markdown",
   "id": "02c9e72c",
   "metadata": {},
   "source": [
    "### Get the Salary of the 10th employee using the dataframe"
   ]
  },
  {
   "cell_type": "code",
   "execution_count": 25,
   "id": "ebbbc6ca",
   "metadata": {},
   "outputs": [
    {
     "data": {
      "text/plain": [
       "57189.0"
      ]
     },
     "execution_count": 25,
     "metadata": {},
     "output_type": "execute_result"
    }
   ],
   "source": [
    "dataframe['Salary'][9]"
   ]
  },
  {
   "cell_type": "markdown",
   "id": "5e9eef7d",
   "metadata": {},
   "source": [
    "### Reading a HTML table from the web"
   ]
  },
  {
   "cell_type": "code",
   "execution_count": 36,
   "id": "1c58d735",
   "metadata": {},
   "outputs": [
    {
     "data": {
      "text/html": [
       "<div>\n",
       "<style scoped>\n",
       "    .dataframe tbody tr th:only-of-type {\n",
       "        vertical-align: middle;\n",
       "    }\n",
       "\n",
       "    .dataframe tbody tr th {\n",
       "        vertical-align: top;\n",
       "    }\n",
       "\n",
       "    .dataframe thead th {\n",
       "        text-align: right;\n",
       "    }\n",
       "</style>\n",
       "<table border=\"1\" class=\"dataframe\">\n",
       "  <thead>\n",
       "    <tr style=\"text-align: right;\">\n",
       "      <th></th>\n",
       "      <th>World ranking</th>\n",
       "      <th>Name</th>\n",
       "      <th>Citizenship</th>\n",
       "      <th>Net worth (USD)</th>\n",
       "      <th>Sources of wealth</th>\n",
       "    </tr>\n",
       "  </thead>\n",
       "  <tbody>\n",
       "    <tr>\n",
       "      <th>0</th>\n",
       "      <td>34</td>\n",
       "      <td>Beate Heister (b. Albrecht) &amp; Karl Albrecht Jr.</td>\n",
       "      <td>Germany</td>\n",
       "      <td>39.2 billion</td>\n",
       "      <td>Aldi Süd</td>\n",
       "    </tr>\n",
       "    <tr>\n",
       "      <th>1</th>\n",
       "      <td>38</td>\n",
       "      <td>Dieter Schwarz</td>\n",
       "      <td>Germany</td>\n",
       "      <td>36.9 billion</td>\n",
       "      <td>Schwarz Gruppe</td>\n",
       "    </tr>\n",
       "    <tr>\n",
       "      <th>2</th>\n",
       "      <td>53</td>\n",
       "      <td>Susanne Klatten</td>\n",
       "      <td>Germany</td>\n",
       "      <td>27.7 billion</td>\n",
       "      <td>BMW, Altana, Nordex, SGL Carbon</td>\n",
       "    </tr>\n",
       "    <tr>\n",
       "      <th>3</th>\n",
       "      <td>58</td>\n",
       "      <td>Klaus-Michael Kühne</td>\n",
       "      <td>Germany</td>\n",
       "      <td>26.3 billion</td>\n",
       "      <td>Kuehne + Nagel</td>\n",
       "    </tr>\n",
       "    <tr>\n",
       "      <th>4</th>\n",
       "      <td>81</td>\n",
       "      <td>Stefan Quandt</td>\n",
       "      <td>Germany</td>\n",
       "      <td>21.6 billion</td>\n",
       "      <td>BMW</td>\n",
       "    </tr>\n",
       "  </tbody>\n",
       "</table>\n",
       "</div>"
      ],
      "text/plain": [
       "   World ranking                                             Name Citizenship  \\\n",
       "0             34  Beate Heister (b. Albrecht) & Karl Albrecht Jr.     Germany   \n",
       "1             38                                   Dieter Schwarz     Germany   \n",
       "2             53                                  Susanne Klatten     Germany   \n",
       "3             58                              Klaus-Michael Kühne     Germany   \n",
       "4             81                                    Stefan Quandt     Germany   \n",
       "\n",
       "  Net worth (USD)                Sources of wealth  \n",
       "0    39.2 billion                         Aldi Süd  \n",
       "1    36.9 billion                   Schwarz Gruppe  \n",
       "2    27.7 billion  BMW, Altana, Nordex, SGL Carbon  \n",
       "3    26.3 billion                   Kuehne + Nagel  \n",
       "4    21.6 billion                              BMW  "
      ]
     },
     "execution_count": 36,
     "metadata": {},
     "output_type": "execute_result"
    }
   ],
   "source": [
    "# Read HTML tables into a list of DataFrame objects.\n",
    "url = r'https://en.wikipedia.org/wiki/List_of_Germans_by_net_worth'\n",
    "tables = pd.read_html(url, header=0)\n",
    "\n",
    "df_net_worth = tables[0] # tables[0] denotes the first table in the page\n",
    "\n",
    "# Asserts can be useful for sanity checks\n",
    "assert len(df_net_worth) > 0 \n",
    "assert df_net_worth.Name.is_unique\n",
    "\n",
    "\n",
    "df_net_worth.head() # Shows only the first five entries"
   ]
  },
  {
   "cell_type": "code",
   "execution_count": 37,
   "id": "fa29240a",
   "metadata": {},
   "outputs": [
    {
     "data": {
      "text/html": [
       "<div>\n",
       "<style scoped>\n",
       "    .dataframe tbody tr th:only-of-type {\n",
       "        vertical-align: middle;\n",
       "    }\n",
       "\n",
       "    .dataframe tbody tr th {\n",
       "        vertical-align: top;\n",
       "    }\n",
       "\n",
       "    .dataframe thead th {\n",
       "        text-align: right;\n",
       "    }\n",
       "</style>\n",
       "<table border=\"1\" class=\"dataframe\">\n",
       "  <thead>\n",
       "    <tr style=\"text-align: right;\">\n",
       "      <th></th>\n",
       "      <th>World ranking</th>\n",
       "      <th>Name</th>\n",
       "      <th>Citizenship</th>\n",
       "      <th>Net worth (USD)</th>\n",
       "      <th>Sources of wealth</th>\n",
       "    </tr>\n",
       "  </thead>\n",
       "  <tbody>\n",
       "    <tr>\n",
       "      <th>0</th>\n",
       "      <td>34</td>\n",
       "      <td>Beate Heister (b. Albrecht) &amp; Karl Albrecht Jr.</td>\n",
       "      <td>Germany</td>\n",
       "      <td>39.2 billion</td>\n",
       "      <td>Aldi Süd</td>\n",
       "    </tr>\n",
       "    <tr>\n",
       "      <th>1</th>\n",
       "      <td>38</td>\n",
       "      <td>Dieter Schwarz</td>\n",
       "      <td>Germany</td>\n",
       "      <td>36.9 billion</td>\n",
       "      <td>Schwarz Gruppe</td>\n",
       "    </tr>\n",
       "    <tr>\n",
       "      <th>2</th>\n",
       "      <td>53</td>\n",
       "      <td>Susanne Klatten</td>\n",
       "      <td>Germany</td>\n",
       "      <td>27.7 billion</td>\n",
       "      <td>BMW, Altana, Nordex, SGL Carbon</td>\n",
       "    </tr>\n",
       "    <tr>\n",
       "      <th>3</th>\n",
       "      <td>58</td>\n",
       "      <td>Klaus-Michael Kühne</td>\n",
       "      <td>Germany</td>\n",
       "      <td>26.3 billion</td>\n",
       "      <td>Kuehne + Nagel</td>\n",
       "    </tr>\n",
       "    <tr>\n",
       "      <th>4</th>\n",
       "      <td>81</td>\n",
       "      <td>Stefan Quandt</td>\n",
       "      <td>Germany</td>\n",
       "      <td>21.6 billion</td>\n",
       "      <td>BMW</td>\n",
       "    </tr>\n",
       "    <tr>\n",
       "      <th>5</th>\n",
       "      <td>98</td>\n",
       "      <td>Theo Albrecht Jr.</td>\n",
       "      <td>Germany</td>\n",
       "      <td>18.8 billion</td>\n",
       "      <td>Aldi Nord and Trader Joe's</td>\n",
       "    </tr>\n",
       "    <tr>\n",
       "      <th>6</th>\n",
       "      <td>115</td>\n",
       "      <td>Reinhold Wuerth</td>\n",
       "      <td>Germany</td>\n",
       "      <td>16.8 billion</td>\n",
       "      <td>Würth Group</td>\n",
       "    </tr>\n",
       "    <tr>\n",
       "      <th>7</th>\n",
       "      <td>133</td>\n",
       "      <td>Georg Schaeffler</td>\n",
       "      <td>Germany</td>\n",
       "      <td>14.9 billion</td>\n",
       "      <td>Schaeffler Group</td>\n",
       "    </tr>\n",
       "    <tr>\n",
       "      <th>8</th>\n",
       "      <td>186</td>\n",
       "      <td>Alexander Otto</td>\n",
       "      <td>Germany</td>\n",
       "      <td>11.8 billion</td>\n",
       "      <td>Otto Group</td>\n",
       "    </tr>\n",
       "    <tr>\n",
       "      <th>9</th>\n",
       "      <td>200</td>\n",
       "      <td>Thomas Strüngmann</td>\n",
       "      <td>Germany</td>\n",
       "      <td>11.0 billion</td>\n",
       "      <td>Hexal, BioNTech</td>\n",
       "    </tr>\n",
       "    <tr>\n",
       "      <th>10</th>\n",
       "      <td>200</td>\n",
       "      <td>Andreas Strüngmann</td>\n",
       "      <td>Germany</td>\n",
       "      <td>11.0 billion</td>\n",
       "      <td>Hexal, BioNTech</td>\n",
       "    </tr>\n",
       "    <tr>\n",
       "      <th>11</th>\n",
       "      <td>224</td>\n",
       "      <td>Dietmar Hopp</td>\n",
       "      <td>Germany</td>\n",
       "      <td>10.1 billion</td>\n",
       "      <td>SAP</td>\n",
       "    </tr>\n",
       "    <tr>\n",
       "      <th>12</th>\n",
       "      <td>234</td>\n",
       "      <td>Friedhelm Loh</td>\n",
       "      <td>Germany</td>\n",
       "      <td>9.7 billion</td>\n",
       "      <td>Friedhelm Loh Group</td>\n",
       "    </tr>\n",
       "    <tr>\n",
       "      <th>13</th>\n",
       "      <td>256</td>\n",
       "      <td>Wolfgang Marguerre</td>\n",
       "      <td>Germany</td>\n",
       "      <td>8.9 billion</td>\n",
       "      <td>Octapharma</td>\n",
       "    </tr>\n",
       "    <tr>\n",
       "      <th>14</th>\n",
       "      <td>264</td>\n",
       "      <td>Michael Otto</td>\n",
       "      <td>Germany</td>\n",
       "      <td>8.9 billion</td>\n",
       "      <td>Otto Group</td>\n",
       "    </tr>\n",
       "    <tr>\n",
       "      <th>15</th>\n",
       "      <td>269</td>\n",
       "      <td>August von Finck Jr.</td>\n",
       "      <td>Germany</td>\n",
       "      <td>8.8 billion</td>\n",
       "      <td>Merck Finck &amp; Co., Allianz, Hochtief, Löwenbrä...</td>\n",
       "    </tr>\n",
       "    <tr>\n",
       "      <th>16</th>\n",
       "      <td>297</td>\n",
       "      <td>Hasso Plattner</td>\n",
       "      <td>Germany</td>\n",
       "      <td>8.3 billion</td>\n",
       "      <td>SAP</td>\n",
       "    </tr>\n",
       "    <tr>\n",
       "      <th>17</th>\n",
       "      <td>304</td>\n",
       "      <td>Andreas von Bechtolsheim</td>\n",
       "      <td>Germany</td>\n",
       "      <td>8.2 billion</td>\n",
       "      <td>Sun Microsystems, Arista Networks</td>\n",
       "    </tr>\n",
       "    <tr>\n",
       "      <th>18</th>\n",
       "      <td>369</td>\n",
       "      <td>Ludwig Merckle</td>\n",
       "      <td>Germany</td>\n",
       "      <td>7.0 billion</td>\n",
       "      <td>Phoenix Pharmahandel, Ratiopharm, HeidelbergCe...</td>\n",
       "    </tr>\n",
       "    <tr>\n",
       "      <th>19</th>\n",
       "      <td>384</td>\n",
       "      <td>Aloys Wobben</td>\n",
       "      <td>Germany</td>\n",
       "      <td>6.8 billion</td>\n",
       "      <td>Enercon</td>\n",
       "    </tr>\n",
       "    <tr>\n",
       "      <th>20</th>\n",
       "      <td>384</td>\n",
       "      <td>Erich Wesjohan</td>\n",
       "      <td>Germany</td>\n",
       "      <td>6.8 billion</td>\n",
       "      <td>EW Group</td>\n",
       "    </tr>\n",
       "    <tr>\n",
       "      <th>21</th>\n",
       "      <td>404</td>\n",
       "      <td>Horst Julius Pudwill</td>\n",
       "      <td>Germany</td>\n",
       "      <td>6.5 billion</td>\n",
       "      <td>Techtronic Industries</td>\n",
       "    </tr>\n",
       "    <tr>\n",
       "      <th>22</th>\n",
       "      <td>421</td>\n",
       "      <td>Axel Oberwelland</td>\n",
       "      <td>Germany</td>\n",
       "      <td>6.3 billion</td>\n",
       "      <td>August Storck</td>\n",
       "    </tr>\n",
       "    <tr>\n",
       "      <th>23</th>\n",
       "      <td>451</td>\n",
       "      <td>Guenther Fielmann</td>\n",
       "      <td>Germany</td>\n",
       "      <td>6.0 billion</td>\n",
       "      <td>Fielmann</td>\n",
       "    </tr>\n",
       "    <tr>\n",
       "      <th>24</th>\n",
       "      <td>451</td>\n",
       "      <td>Juergen Blickle</td>\n",
       "      <td>Germany</td>\n",
       "      <td>6.0 billion</td>\n",
       "      <td>Eurodrive</td>\n",
       "    </tr>\n",
       "    <tr>\n",
       "      <th>25</th>\n",
       "      <td>502</td>\n",
       "      <td>Alexandra Schörghuber</td>\n",
       "      <td>Germany</td>\n",
       "      <td>5.5 billion</td>\n",
       "      <td>Schörghuber Unternehmensgruppe</td>\n",
       "    </tr>\n",
       "    <tr>\n",
       "      <th>26</th>\n",
       "      <td>520</td>\n",
       "      <td>Rainer Blickle</td>\n",
       "      <td>Germany</td>\n",
       "      <td>5.4 billion</td>\n",
       "      <td>Eurodrive</td>\n",
       "    </tr>\n",
       "    <tr>\n",
       "      <th>27</th>\n",
       "      <td>550</td>\n",
       "      <td>Theo Müller</td>\n",
       "      <td>Germany</td>\n",
       "      <td>5.1 billion</td>\n",
       "      <td>Müller</td>\n",
       "    </tr>\n",
       "    <tr>\n",
       "      <th>28</th>\n",
       "      <td>550</td>\n",
       "      <td>Michael Herz</td>\n",
       "      <td>Germany</td>\n",
       "      <td>5.1 billion</td>\n",
       "      <td>Tchibo, Beiersdorf</td>\n",
       "    </tr>\n",
       "    <tr>\n",
       "      <th>29</th>\n",
       "      <td>550</td>\n",
       "      <td>Wolfgang Herz</td>\n",
       "      <td>Germany</td>\n",
       "      <td>5.1 billion</td>\n",
       "      <td>Tchibo, Beiersdorf</td>\n",
       "    </tr>\n",
       "  </tbody>\n",
       "</table>\n",
       "</div>"
      ],
      "text/plain": [
       "    World ranking                                             Name  \\\n",
       "0              34  Beate Heister (b. Albrecht) & Karl Albrecht Jr.   \n",
       "1              38                                   Dieter Schwarz   \n",
       "2              53                                  Susanne Klatten   \n",
       "3              58                              Klaus-Michael Kühne   \n",
       "4              81                                    Stefan Quandt   \n",
       "5              98                                Theo Albrecht Jr.   \n",
       "6             115                                  Reinhold Wuerth   \n",
       "7             133                                 Georg Schaeffler   \n",
       "8             186                                   Alexander Otto   \n",
       "9             200                                Thomas Strüngmann   \n",
       "10            200                               Andreas Strüngmann   \n",
       "11            224                                     Dietmar Hopp   \n",
       "12            234                                    Friedhelm Loh   \n",
       "13            256                               Wolfgang Marguerre   \n",
       "14            264                                     Michael Otto   \n",
       "15            269                             August von Finck Jr.   \n",
       "16            297                                   Hasso Plattner   \n",
       "17            304                         Andreas von Bechtolsheim   \n",
       "18            369                                   Ludwig Merckle   \n",
       "19            384                                     Aloys Wobben   \n",
       "20            384                                   Erich Wesjohan   \n",
       "21            404                             Horst Julius Pudwill   \n",
       "22            421                                 Axel Oberwelland   \n",
       "23            451                                Guenther Fielmann   \n",
       "24            451                                  Juergen Blickle   \n",
       "25            502                            Alexandra Schörghuber   \n",
       "26            520                                   Rainer Blickle   \n",
       "27            550                                      Theo Müller   \n",
       "28            550                                     Michael Herz   \n",
       "29            550                                    Wolfgang Herz   \n",
       "\n",
       "   Citizenship Net worth (USD)  \\\n",
       "0      Germany    39.2 billion   \n",
       "1      Germany    36.9 billion   \n",
       "2      Germany    27.7 billion   \n",
       "3      Germany    26.3 billion   \n",
       "4      Germany    21.6 billion   \n",
       "5      Germany    18.8 billion   \n",
       "6      Germany    16.8 billion   \n",
       "7      Germany    14.9 billion   \n",
       "8      Germany    11.8 billion   \n",
       "9      Germany    11.0 billion   \n",
       "10     Germany    11.0 billion   \n",
       "11     Germany    10.1 billion   \n",
       "12     Germany     9.7 billion   \n",
       "13     Germany     8.9 billion   \n",
       "14     Germany     8.9 billion   \n",
       "15     Germany     8.8 billion   \n",
       "16     Germany     8.3 billion   \n",
       "17     Germany     8.2 billion   \n",
       "18     Germany     7.0 billion   \n",
       "19     Germany     6.8 billion   \n",
       "20     Germany     6.8 billion   \n",
       "21     Germany     6.5 billion   \n",
       "22     Germany     6.3 billion   \n",
       "23     Germany     6.0 billion   \n",
       "24     Germany     6.0 billion   \n",
       "25     Germany     5.5 billion   \n",
       "26     Germany     5.4 billion   \n",
       "27     Germany     5.1 billion   \n",
       "28     Germany     5.1 billion   \n",
       "29     Germany     5.1 billion   \n",
       "\n",
       "                                    Sources of wealth  \n",
       "0                                            Aldi Süd  \n",
       "1                                      Schwarz Gruppe  \n",
       "2                     BMW, Altana, Nordex, SGL Carbon  \n",
       "3                                      Kuehne + Nagel  \n",
       "4                                                 BMW  \n",
       "5                          Aldi Nord and Trader Joe's  \n",
       "6                                         Würth Group  \n",
       "7                                    Schaeffler Group  \n",
       "8                                          Otto Group  \n",
       "9                                     Hexal, BioNTech  \n",
       "10                                    Hexal, BioNTech  \n",
       "11                                                SAP  \n",
       "12                                Friedhelm Loh Group  \n",
       "13                                         Octapharma  \n",
       "14                                         Otto Group  \n",
       "15  Merck Finck & Co., Allianz, Hochtief, Löwenbrä...  \n",
       "16                                                SAP  \n",
       "17                  Sun Microsystems, Arista Networks  \n",
       "18  Phoenix Pharmahandel, Ratiopharm, HeidelbergCe...  \n",
       "19                                            Enercon  \n",
       "20                                           EW Group  \n",
       "21                              Techtronic Industries  \n",
       "22                                      August Storck  \n",
       "23                                           Fielmann  \n",
       "24                                          Eurodrive  \n",
       "25                     Schörghuber Unternehmensgruppe  \n",
       "26                                          Eurodrive  \n",
       "27                                             Müller  \n",
       "28                                 Tchibo, Beiersdorf  \n",
       "29                                 Tchibo, Beiersdorf  "
      ]
     },
     "execution_count": 37,
     "metadata": {},
     "output_type": "execute_result"
    }
   ],
   "source": [
    "df_net_worth"
   ]
  },
  {
   "cell_type": "markdown",
   "id": "fc621e3f",
   "metadata": {},
   "source": [
    "### Reading from databases is also possible."
   ]
  },
  {
   "cell_type": "markdown",
   "id": "ba6955f1",
   "metadata": {},
   "source": [
    "**Reading** from Microsoft SQL using **pyodbc** and **pd.read_sql(sql_code, connection)**."
   ]
  },
  {
   "cell_type": "markdown",
   "id": "a4fed47f",
   "metadata": {},
   "source": [
    "Methods on DataFrames **return a new instance** by default. In other words, they behave like methods on immutable Python object, and not like methods on mutable objects."
   ]
  },
  {
   "cell_type": "code",
   "execution_count": 38,
   "id": "cd0d7839",
   "metadata": {},
   "outputs": [
    {
     "name": "stdout",
     "output_type": "stream",
     "text": [
      "[1, 2, 4, 6, 9]\n",
      "Tommy\n"
     ]
    }
   ],
   "source": [
    "# Lists are MUTABLE\n",
    "scores = [6, 2, 4, 9, 1]\n",
    "scores.sort()  # Changes the object in-place, returns None\n",
    "print(scores)\n",
    "\n",
    "# Strings are IMMUTABLE\n",
    "my_name = 'tommy'\n",
    "my_name = my_name.capitalize()  # A new instance is returned\n",
    "print(my_name)"
   ]
  },
  {
   "cell_type": "markdown",
   "id": "d8d1b544",
   "metadata": {},
   "source": [
    "### How to changes the index values"
   ]
  },
  {
   "cell_type": "code",
   "execution_count": 42,
   "id": "31e34a6f",
   "metadata": {},
   "outputs": [],
   "source": [
    "df.index = ['first', 'second', 'third', 'fourth']"
   ]
  },
  {
   "cell_type": "code",
   "execution_count": 44,
   "id": "fa906336",
   "metadata": {},
   "outputs": [
    {
     "data": {
      "text/html": [
       "<div>\n",
       "<style scoped>\n",
       "    .dataframe tbody tr th:only-of-type {\n",
       "        vertical-align: middle;\n",
       "    }\n",
       "\n",
       "    .dataframe tbody tr th {\n",
       "        vertical-align: top;\n",
       "    }\n",
       "\n",
       "    .dataframe thead th {\n",
       "        text-align: right;\n",
       "    }\n",
       "</style>\n",
       "<table border=\"1\" class=\"dataframe\">\n",
       "  <thead>\n",
       "    <tr style=\"text-align: right;\">\n",
       "      <th></th>\n",
       "      <th>name</th>\n",
       "      <th>marks</th>\n",
       "      <th>city</th>\n",
       "    </tr>\n",
       "  </thead>\n",
       "  <tbody>\n",
       "    <tr>\n",
       "      <th>first</th>\n",
       "      <td>Samrat</td>\n",
       "      <td>50</td>\n",
       "      <td>Jalpaiguri</td>\n",
       "    </tr>\n",
       "    <tr>\n",
       "      <th>second</th>\n",
       "      <td>Sarah</td>\n",
       "      <td>49</td>\n",
       "      <td>Los Angeles</td>\n",
       "    </tr>\n",
       "    <tr>\n",
       "      <th>third</th>\n",
       "      <td>Dave</td>\n",
       "      <td>47</td>\n",
       "      <td>Montreal</td>\n",
       "    </tr>\n",
       "    <tr>\n",
       "      <th>fourth</th>\n",
       "      <td>Sophie</td>\n",
       "      <td>50</td>\n",
       "      <td>London</td>\n",
       "    </tr>\n",
       "  </tbody>\n",
       "</table>\n",
       "</div>"
      ],
      "text/plain": [
       "          name  marks         city\n",
       "first   Samrat     50   Jalpaiguri\n",
       "second   Sarah     49  Los Angeles\n",
       "third     Dave     47     Montreal\n",
       "fourth  Sophie     50       London"
      ]
     },
     "execution_count": 44,
     "metadata": {},
     "output_type": "execute_result"
    }
   ],
   "source": [
    "df # The indices are changed from 0, 1, 2, 3 to first, second, third and fourth"
   ]
  },
  {
   "cell_type": "markdown",
   "id": "f259dfa7",
   "metadata": {},
   "source": [
    "### Two data structures in Pandas: Series and DataFrame"
   ]
  },
  {
   "cell_type": "code",
   "execution_count": 48,
   "id": "1a147afd",
   "metadata": {},
   "outputs": [
    {
     "data": {
      "text/plain": [
       "pandas.core.series.Series"
      ]
     },
     "execution_count": 48,
     "metadata": {},
     "output_type": "execute_result"
    }
   ],
   "source": [
    "type(df['marks']) # Its a Series"
   ]
  },
  {
   "cell_type": "code",
   "execution_count": 49,
   "id": "80066562",
   "metadata": {},
   "outputs": [
    {
     "data": {
      "text/plain": [
       "pandas.core.frame.DataFrame"
      ]
     },
     "execution_count": 49,
     "metadata": {},
     "output_type": "execute_result"
    }
   ],
   "source": [
    "type(df)"
   ]
  },
  {
   "cell_type": "markdown",
   "id": "8e344142",
   "metadata": {},
   "source": [
    "### Create a Pandas Series to store some random numbers"
   ]
  },
  {
   "cell_type": "code",
   "execution_count": 50,
   "id": "77f9038e",
   "metadata": {},
   "outputs": [],
   "source": [
    "series = pd.Series(np.random.rand(34))"
   ]
  },
  {
   "cell_type": "code",
   "execution_count": 51,
   "id": "1ad0893a",
   "metadata": {},
   "outputs": [
    {
     "data": {
      "text/plain": [
       "0     0.931025\n",
       "1     0.457479\n",
       "2     0.900095\n",
       "3     0.583503\n",
       "4     0.740396\n",
       "5     0.985976\n",
       "6     0.304690\n",
       "7     0.589111\n",
       "8     0.133849\n",
       "9     0.991872\n",
       "10    0.535326\n",
       "11    0.684024\n",
       "12    0.194212\n",
       "13    0.236177\n",
       "14    0.893232\n",
       "15    0.198487\n",
       "16    0.802577\n",
       "17    0.769646\n",
       "18    0.900168\n",
       "19    0.741213\n",
       "20    0.412871\n",
       "21    0.059225\n",
       "22    0.055967\n",
       "23    0.565346\n",
       "24    0.451197\n",
       "25    0.586177\n",
       "26    0.895658\n",
       "27    0.024422\n",
       "28    0.629172\n",
       "29    0.982600\n",
       "30    0.469746\n",
       "31    0.180316\n",
       "32    0.537476\n",
       "33    0.173427\n",
       "dtype: float64"
      ]
     },
     "execution_count": 51,
     "metadata": {},
     "output_type": "execute_result"
    }
   ],
   "source": [
    "series"
   ]
  },
  {
   "cell_type": "markdown",
   "id": "84fc572f",
   "metadata": {},
   "source": [
    "### Create a Pandas Series to store some random numbers"
   ]
  },
  {
   "cell_type": "code",
   "execution_count": 53,
   "id": "efda1ea4",
   "metadata": {},
   "outputs": [],
   "source": [
    "new_df = pd.DataFrame(np.random.rand(334, 5), index = np.arange(334))"
   ]
  },
  {
   "cell_type": "code",
   "execution_count": 54,
   "id": "7f8d325a",
   "metadata": {},
   "outputs": [
    {
     "data": {
      "text/html": [
       "<div>\n",
       "<style scoped>\n",
       "    .dataframe tbody tr th:only-of-type {\n",
       "        vertical-align: middle;\n",
       "    }\n",
       "\n",
       "    .dataframe tbody tr th {\n",
       "        vertical-align: top;\n",
       "    }\n",
       "\n",
       "    .dataframe thead th {\n",
       "        text-align: right;\n",
       "    }\n",
       "</style>\n",
       "<table border=\"1\" class=\"dataframe\">\n",
       "  <thead>\n",
       "    <tr style=\"text-align: right;\">\n",
       "      <th></th>\n",
       "      <th>0</th>\n",
       "      <th>1</th>\n",
       "      <th>2</th>\n",
       "      <th>3</th>\n",
       "      <th>4</th>\n",
       "    </tr>\n",
       "  </thead>\n",
       "  <tbody>\n",
       "    <tr>\n",
       "      <th>0</th>\n",
       "      <td>0.645103</td>\n",
       "      <td>0.909874</td>\n",
       "      <td>0.772714</td>\n",
       "      <td>0.971920</td>\n",
       "      <td>0.447922</td>\n",
       "    </tr>\n",
       "    <tr>\n",
       "      <th>1</th>\n",
       "      <td>0.406672</td>\n",
       "      <td>0.462661</td>\n",
       "      <td>0.764455</td>\n",
       "      <td>0.393632</td>\n",
       "      <td>0.980118</td>\n",
       "    </tr>\n",
       "    <tr>\n",
       "      <th>2</th>\n",
       "      <td>0.268265</td>\n",
       "      <td>0.942172</td>\n",
       "      <td>0.689656</td>\n",
       "      <td>0.962866</td>\n",
       "      <td>0.480366</td>\n",
       "    </tr>\n",
       "    <tr>\n",
       "      <th>3</th>\n",
       "      <td>0.225758</td>\n",
       "      <td>0.446069</td>\n",
       "      <td>0.721748</td>\n",
       "      <td>0.540165</td>\n",
       "      <td>0.294433</td>\n",
       "    </tr>\n",
       "    <tr>\n",
       "      <th>4</th>\n",
       "      <td>0.334740</td>\n",
       "      <td>0.651902</td>\n",
       "      <td>0.954042</td>\n",
       "      <td>0.305123</td>\n",
       "      <td>0.323381</td>\n",
       "    </tr>\n",
       "    <tr>\n",
       "      <th>...</th>\n",
       "      <td>...</td>\n",
       "      <td>...</td>\n",
       "      <td>...</td>\n",
       "      <td>...</td>\n",
       "      <td>...</td>\n",
       "    </tr>\n",
       "    <tr>\n",
       "      <th>329</th>\n",
       "      <td>0.484802</td>\n",
       "      <td>0.396057</td>\n",
       "      <td>0.986275</td>\n",
       "      <td>0.206240</td>\n",
       "      <td>0.287740</td>\n",
       "    </tr>\n",
       "    <tr>\n",
       "      <th>330</th>\n",
       "      <td>0.275694</td>\n",
       "      <td>0.048875</td>\n",
       "      <td>0.548263</td>\n",
       "      <td>0.026233</td>\n",
       "      <td>0.996112</td>\n",
       "    </tr>\n",
       "    <tr>\n",
       "      <th>331</th>\n",
       "      <td>0.766371</td>\n",
       "      <td>0.889653</td>\n",
       "      <td>0.327002</td>\n",
       "      <td>0.513125</td>\n",
       "      <td>0.955522</td>\n",
       "    </tr>\n",
       "    <tr>\n",
       "      <th>332</th>\n",
       "      <td>0.974755</td>\n",
       "      <td>0.036153</td>\n",
       "      <td>0.393568</td>\n",
       "      <td>0.760682</td>\n",
       "      <td>0.641273</td>\n",
       "    </tr>\n",
       "    <tr>\n",
       "      <th>333</th>\n",
       "      <td>0.113666</td>\n",
       "      <td>0.516478</td>\n",
       "      <td>0.664843</td>\n",
       "      <td>0.206453</td>\n",
       "      <td>0.539210</td>\n",
       "    </tr>\n",
       "  </tbody>\n",
       "</table>\n",
       "<p>334 rows × 5 columns</p>\n",
       "</div>"
      ],
      "text/plain": [
       "            0         1         2         3         4\n",
       "0    0.645103  0.909874  0.772714  0.971920  0.447922\n",
       "1    0.406672  0.462661  0.764455  0.393632  0.980118\n",
       "2    0.268265  0.942172  0.689656  0.962866  0.480366\n",
       "3    0.225758  0.446069  0.721748  0.540165  0.294433\n",
       "4    0.334740  0.651902  0.954042  0.305123  0.323381\n",
       "..        ...       ...       ...       ...       ...\n",
       "329  0.484802  0.396057  0.986275  0.206240  0.287740\n",
       "330  0.275694  0.048875  0.548263  0.026233  0.996112\n",
       "331  0.766371  0.889653  0.327002  0.513125  0.955522\n",
       "332  0.974755  0.036153  0.393568  0.760682  0.641273\n",
       "333  0.113666  0.516478  0.664843  0.206453  0.539210\n",
       "\n",
       "[334 rows x 5 columns]"
      ]
     },
     "execution_count": 54,
     "metadata": {},
     "output_type": "execute_result"
    }
   ],
   "source": [
    "new_df"
   ]
  },
  {
   "cell_type": "code",
   "execution_count": 55,
   "id": "78cd9bec",
   "metadata": {},
   "outputs": [
    {
     "data": {
      "text/html": [
       "<div>\n",
       "<style scoped>\n",
       "    .dataframe tbody tr th:only-of-type {\n",
       "        vertical-align: middle;\n",
       "    }\n",
       "\n",
       "    .dataframe tbody tr th {\n",
       "        vertical-align: top;\n",
       "    }\n",
       "\n",
       "    .dataframe thead th {\n",
       "        text-align: right;\n",
       "    }\n",
       "</style>\n",
       "<table border=\"1\" class=\"dataframe\">\n",
       "  <thead>\n",
       "    <tr style=\"text-align: right;\">\n",
       "      <th></th>\n",
       "      <th>0</th>\n",
       "      <th>1</th>\n",
       "      <th>2</th>\n",
       "      <th>3</th>\n",
       "      <th>4</th>\n",
       "    </tr>\n",
       "  </thead>\n",
       "  <tbody>\n",
       "    <tr>\n",
       "      <th>count</th>\n",
       "      <td>334.000000</td>\n",
       "      <td>334.000000</td>\n",
       "      <td>334.000000</td>\n",
       "      <td>334.000000</td>\n",
       "      <td>334.000000</td>\n",
       "    </tr>\n",
       "    <tr>\n",
       "      <th>mean</th>\n",
       "      <td>0.514653</td>\n",
       "      <td>0.509198</td>\n",
       "      <td>0.516012</td>\n",
       "      <td>0.506963</td>\n",
       "      <td>0.509086</td>\n",
       "    </tr>\n",
       "    <tr>\n",
       "      <th>std</th>\n",
       "      <td>0.285920</td>\n",
       "      <td>0.297670</td>\n",
       "      <td>0.293332</td>\n",
       "      <td>0.284847</td>\n",
       "      <td>0.280513</td>\n",
       "    </tr>\n",
       "    <tr>\n",
       "      <th>min</th>\n",
       "      <td>0.000155</td>\n",
       "      <td>0.010953</td>\n",
       "      <td>0.003311</td>\n",
       "      <td>0.009532</td>\n",
       "      <td>0.005277</td>\n",
       "    </tr>\n",
       "    <tr>\n",
       "      <th>25%</th>\n",
       "      <td>0.268805</td>\n",
       "      <td>0.262036</td>\n",
       "      <td>0.267722</td>\n",
       "      <td>0.264632</td>\n",
       "      <td>0.287167</td>\n",
       "    </tr>\n",
       "    <tr>\n",
       "      <th>50%</th>\n",
       "      <td>0.489789</td>\n",
       "      <td>0.486366</td>\n",
       "      <td>0.533167</td>\n",
       "      <td>0.473689</td>\n",
       "      <td>0.509857</td>\n",
       "    </tr>\n",
       "    <tr>\n",
       "      <th>75%</th>\n",
       "      <td>0.772229</td>\n",
       "      <td>0.773088</td>\n",
       "      <td>0.764204</td>\n",
       "      <td>0.763055</td>\n",
       "      <td>0.744210</td>\n",
       "    </tr>\n",
       "    <tr>\n",
       "      <th>max</th>\n",
       "      <td>0.999820</td>\n",
       "      <td>0.997521</td>\n",
       "      <td>0.997877</td>\n",
       "      <td>0.999952</td>\n",
       "      <td>0.997636</td>\n",
       "    </tr>\n",
       "  </tbody>\n",
       "</table>\n",
       "</div>"
      ],
      "text/plain": [
       "                0           1           2           3           4\n",
       "count  334.000000  334.000000  334.000000  334.000000  334.000000\n",
       "mean     0.514653    0.509198    0.516012    0.506963    0.509086\n",
       "std      0.285920    0.297670    0.293332    0.284847    0.280513\n",
       "min      0.000155    0.010953    0.003311    0.009532    0.005277\n",
       "25%      0.268805    0.262036    0.267722    0.264632    0.287167\n",
       "50%      0.489789    0.486366    0.533167    0.473689    0.509857\n",
       "75%      0.772229    0.773088    0.764204    0.763055    0.744210\n",
       "max      0.999820    0.997521    0.997877    0.999952    0.997636"
      ]
     },
     "execution_count": 55,
     "metadata": {},
     "output_type": "execute_result"
    }
   ],
   "source": [
    "new_df.describe()"
   ]
  },
  {
   "cell_type": "code",
   "execution_count": 58,
   "id": "5e185a7f",
   "metadata": {},
   "outputs": [
    {
     "data": {
      "text/plain": [
       "0    float64\n",
       "1    float64\n",
       "2    float64\n",
       "3    float64\n",
       "4    float64\n",
       "dtype: object"
      ]
     },
     "execution_count": 58,
     "metadata": {},
     "output_type": "execute_result"
    }
   ],
   "source": [
    "new_df.dtypes"
   ]
  },
  {
   "cell_type": "code",
   "execution_count": 59,
   "id": "e40c5423",
   "metadata": {},
   "outputs": [
    {
     "data": {
      "text/plain": [
       "Int64Index([  0,   1,   2,   3,   4,   5,   6,   7,   8,   9,\n",
       "            ...\n",
       "            324, 325, 326, 327, 328, 329, 330, 331, 332, 333],\n",
       "           dtype='int64', length=334)"
      ]
     },
     "execution_count": 59,
     "metadata": {},
     "output_type": "execute_result"
    }
   ],
   "source": [
    "new_df.index"
   ]
  },
  {
   "cell_type": "markdown",
   "id": "90e686fa",
   "metadata": {},
   "source": [
    "### Create Transpose of the DataFrame"
   ]
  },
  {
   "cell_type": "code",
   "execution_count": 61,
   "id": "4f97c83a",
   "metadata": {},
   "outputs": [
    {
     "data": {
      "text/html": [
       "<div>\n",
       "<style scoped>\n",
       "    .dataframe tbody tr th:only-of-type {\n",
       "        vertical-align: middle;\n",
       "    }\n",
       "\n",
       "    .dataframe tbody tr th {\n",
       "        vertical-align: top;\n",
       "    }\n",
       "\n",
       "    .dataframe thead th {\n",
       "        text-align: right;\n",
       "    }\n",
       "</style>\n",
       "<table border=\"1\" class=\"dataframe\">\n",
       "  <thead>\n",
       "    <tr style=\"text-align: right;\">\n",
       "      <th></th>\n",
       "      <th>0</th>\n",
       "      <th>1</th>\n",
       "      <th>2</th>\n",
       "      <th>3</th>\n",
       "      <th>4</th>\n",
       "      <th>5</th>\n",
       "      <th>6</th>\n",
       "      <th>7</th>\n",
       "      <th>8</th>\n",
       "      <th>9</th>\n",
       "      <th>...</th>\n",
       "      <th>324</th>\n",
       "      <th>325</th>\n",
       "      <th>326</th>\n",
       "      <th>327</th>\n",
       "      <th>328</th>\n",
       "      <th>329</th>\n",
       "      <th>330</th>\n",
       "      <th>331</th>\n",
       "      <th>332</th>\n",
       "      <th>333</th>\n",
       "    </tr>\n",
       "  </thead>\n",
       "  <tbody>\n",
       "    <tr>\n",
       "      <th>0</th>\n",
       "      <td>0.645103</td>\n",
       "      <td>0.406672</td>\n",
       "      <td>0.268265</td>\n",
       "      <td>0.225758</td>\n",
       "      <td>0.334740</td>\n",
       "      <td>0.896928</td>\n",
       "      <td>0.626353</td>\n",
       "      <td>0.980821</td>\n",
       "      <td>0.136907</td>\n",
       "      <td>0.801126</td>\n",
       "      <td>...</td>\n",
       "      <td>0.433531</td>\n",
       "      <td>0.755803</td>\n",
       "      <td>0.378275</td>\n",
       "      <td>0.480643</td>\n",
       "      <td>0.177254</td>\n",
       "      <td>0.484802</td>\n",
       "      <td>0.275694</td>\n",
       "      <td>0.766371</td>\n",
       "      <td>0.974755</td>\n",
       "      <td>0.113666</td>\n",
       "    </tr>\n",
       "    <tr>\n",
       "      <th>1</th>\n",
       "      <td>0.909874</td>\n",
       "      <td>0.462661</td>\n",
       "      <td>0.942172</td>\n",
       "      <td>0.446069</td>\n",
       "      <td>0.651902</td>\n",
       "      <td>0.515101</td>\n",
       "      <td>0.088009</td>\n",
       "      <td>0.354096</td>\n",
       "      <td>0.630575</td>\n",
       "      <td>0.875471</td>\n",
       "      <td>...</td>\n",
       "      <td>0.103127</td>\n",
       "      <td>0.254081</td>\n",
       "      <td>0.481105</td>\n",
       "      <td>0.192492</td>\n",
       "      <td>0.778096</td>\n",
       "      <td>0.396057</td>\n",
       "      <td>0.048875</td>\n",
       "      <td>0.889653</td>\n",
       "      <td>0.036153</td>\n",
       "      <td>0.516478</td>\n",
       "    </tr>\n",
       "    <tr>\n",
       "      <th>2</th>\n",
       "      <td>0.772714</td>\n",
       "      <td>0.764455</td>\n",
       "      <td>0.689656</td>\n",
       "      <td>0.721748</td>\n",
       "      <td>0.954042</td>\n",
       "      <td>0.770438</td>\n",
       "      <td>0.602483</td>\n",
       "      <td>0.493543</td>\n",
       "      <td>0.983205</td>\n",
       "      <td>0.268387</td>\n",
       "      <td>...</td>\n",
       "      <td>0.498296</td>\n",
       "      <td>0.751677</td>\n",
       "      <td>0.320666</td>\n",
       "      <td>0.616284</td>\n",
       "      <td>0.578948</td>\n",
       "      <td>0.986275</td>\n",
       "      <td>0.548263</td>\n",
       "      <td>0.327002</td>\n",
       "      <td>0.393568</td>\n",
       "      <td>0.664843</td>\n",
       "    </tr>\n",
       "    <tr>\n",
       "      <th>3</th>\n",
       "      <td>0.971920</td>\n",
       "      <td>0.393632</td>\n",
       "      <td>0.962866</td>\n",
       "      <td>0.540165</td>\n",
       "      <td>0.305123</td>\n",
       "      <td>0.408431</td>\n",
       "      <td>0.877930</td>\n",
       "      <td>0.572613</td>\n",
       "      <td>0.073348</td>\n",
       "      <td>0.022865</td>\n",
       "      <td>...</td>\n",
       "      <td>0.664032</td>\n",
       "      <td>0.181776</td>\n",
       "      <td>0.471433</td>\n",
       "      <td>0.531133</td>\n",
       "      <td>0.551473</td>\n",
       "      <td>0.206240</td>\n",
       "      <td>0.026233</td>\n",
       "      <td>0.513125</td>\n",
       "      <td>0.760682</td>\n",
       "      <td>0.206453</td>\n",
       "    </tr>\n",
       "    <tr>\n",
       "      <th>4</th>\n",
       "      <td>0.447922</td>\n",
       "      <td>0.980118</td>\n",
       "      <td>0.480366</td>\n",
       "      <td>0.294433</td>\n",
       "      <td>0.323381</td>\n",
       "      <td>0.498782</td>\n",
       "      <td>0.642444</td>\n",
       "      <td>0.128912</td>\n",
       "      <td>0.864935</td>\n",
       "      <td>0.374073</td>\n",
       "      <td>...</td>\n",
       "      <td>0.100304</td>\n",
       "      <td>0.744886</td>\n",
       "      <td>0.917701</td>\n",
       "      <td>0.302836</td>\n",
       "      <td>0.531812</td>\n",
       "      <td>0.287740</td>\n",
       "      <td>0.996112</td>\n",
       "      <td>0.955522</td>\n",
       "      <td>0.641273</td>\n",
       "      <td>0.539210</td>\n",
       "    </tr>\n",
       "  </tbody>\n",
       "</table>\n",
       "<p>5 rows × 334 columns</p>\n",
       "</div>"
      ],
      "text/plain": [
       "        0         1         2         3         4         5         6    \\\n",
       "0  0.645103  0.406672  0.268265  0.225758  0.334740  0.896928  0.626353   \n",
       "1  0.909874  0.462661  0.942172  0.446069  0.651902  0.515101  0.088009   \n",
       "2  0.772714  0.764455  0.689656  0.721748  0.954042  0.770438  0.602483   \n",
       "3  0.971920  0.393632  0.962866  0.540165  0.305123  0.408431  0.877930   \n",
       "4  0.447922  0.980118  0.480366  0.294433  0.323381  0.498782  0.642444   \n",
       "\n",
       "        7         8         9    ...       324       325       326       327  \\\n",
       "0  0.980821  0.136907  0.801126  ...  0.433531  0.755803  0.378275  0.480643   \n",
       "1  0.354096  0.630575  0.875471  ...  0.103127  0.254081  0.481105  0.192492   \n",
       "2  0.493543  0.983205  0.268387  ...  0.498296  0.751677  0.320666  0.616284   \n",
       "3  0.572613  0.073348  0.022865  ...  0.664032  0.181776  0.471433  0.531133   \n",
       "4  0.128912  0.864935  0.374073  ...  0.100304  0.744886  0.917701  0.302836   \n",
       "\n",
       "        328       329       330       331       332       333  \n",
       "0  0.177254  0.484802  0.275694  0.766371  0.974755  0.113666  \n",
       "1  0.778096  0.396057  0.048875  0.889653  0.036153  0.516478  \n",
       "2  0.578948  0.986275  0.548263  0.327002  0.393568  0.664843  \n",
       "3  0.551473  0.206240  0.026233  0.513125  0.760682  0.206453  \n",
       "4  0.531812  0.287740  0.996112  0.955522  0.641273  0.539210  \n",
       "\n",
       "[5 rows x 334 columns]"
      ]
     },
     "execution_count": 61,
     "metadata": {},
     "output_type": "execute_result"
    }
   ],
   "source": [
    "new_df.T"
   ]
  },
  {
   "cell_type": "markdown",
   "id": "d7a8882d",
   "metadata": {},
   "source": [
    "### Sort the DataFrame in Descending order"
   ]
  },
  {
   "cell_type": "code",
   "execution_count": 63,
   "id": "282d4a3d",
   "metadata": {},
   "outputs": [
    {
     "data": {
      "text/html": [
       "<div>\n",
       "<style scoped>\n",
       "    .dataframe tbody tr th:only-of-type {\n",
       "        vertical-align: middle;\n",
       "    }\n",
       "\n",
       "    .dataframe tbody tr th {\n",
       "        vertical-align: top;\n",
       "    }\n",
       "\n",
       "    .dataframe thead th {\n",
       "        text-align: right;\n",
       "    }\n",
       "</style>\n",
       "<table border=\"1\" class=\"dataframe\">\n",
       "  <thead>\n",
       "    <tr style=\"text-align: right;\">\n",
       "      <th></th>\n",
       "      <th>0</th>\n",
       "      <th>1</th>\n",
       "      <th>2</th>\n",
       "      <th>3</th>\n",
       "      <th>4</th>\n",
       "    </tr>\n",
       "  </thead>\n",
       "  <tbody>\n",
       "    <tr>\n",
       "      <th>333</th>\n",
       "      <td>0.113666</td>\n",
       "      <td>0.516478</td>\n",
       "      <td>0.664843</td>\n",
       "      <td>0.206453</td>\n",
       "      <td>0.539210</td>\n",
       "    </tr>\n",
       "    <tr>\n",
       "      <th>332</th>\n",
       "      <td>0.974755</td>\n",
       "      <td>0.036153</td>\n",
       "      <td>0.393568</td>\n",
       "      <td>0.760682</td>\n",
       "      <td>0.641273</td>\n",
       "    </tr>\n",
       "    <tr>\n",
       "      <th>331</th>\n",
       "      <td>0.766371</td>\n",
       "      <td>0.889653</td>\n",
       "      <td>0.327002</td>\n",
       "      <td>0.513125</td>\n",
       "      <td>0.955522</td>\n",
       "    </tr>\n",
       "    <tr>\n",
       "      <th>330</th>\n",
       "      <td>0.275694</td>\n",
       "      <td>0.048875</td>\n",
       "      <td>0.548263</td>\n",
       "      <td>0.026233</td>\n",
       "      <td>0.996112</td>\n",
       "    </tr>\n",
       "    <tr>\n",
       "      <th>329</th>\n",
       "      <td>0.484802</td>\n",
       "      <td>0.396057</td>\n",
       "      <td>0.986275</td>\n",
       "      <td>0.206240</td>\n",
       "      <td>0.287740</td>\n",
       "    </tr>\n",
       "    <tr>\n",
       "      <th>...</th>\n",
       "      <td>...</td>\n",
       "      <td>...</td>\n",
       "      <td>...</td>\n",
       "      <td>...</td>\n",
       "      <td>...</td>\n",
       "    </tr>\n",
       "    <tr>\n",
       "      <th>4</th>\n",
       "      <td>0.334740</td>\n",
       "      <td>0.651902</td>\n",
       "      <td>0.954042</td>\n",
       "      <td>0.305123</td>\n",
       "      <td>0.323381</td>\n",
       "    </tr>\n",
       "    <tr>\n",
       "      <th>3</th>\n",
       "      <td>0.225758</td>\n",
       "      <td>0.446069</td>\n",
       "      <td>0.721748</td>\n",
       "      <td>0.540165</td>\n",
       "      <td>0.294433</td>\n",
       "    </tr>\n",
       "    <tr>\n",
       "      <th>2</th>\n",
       "      <td>0.268265</td>\n",
       "      <td>0.942172</td>\n",
       "      <td>0.689656</td>\n",
       "      <td>0.962866</td>\n",
       "      <td>0.480366</td>\n",
       "    </tr>\n",
       "    <tr>\n",
       "      <th>1</th>\n",
       "      <td>0.406672</td>\n",
       "      <td>0.462661</td>\n",
       "      <td>0.764455</td>\n",
       "      <td>0.393632</td>\n",
       "      <td>0.980118</td>\n",
       "    </tr>\n",
       "    <tr>\n",
       "      <th>0</th>\n",
       "      <td>0.645103</td>\n",
       "      <td>0.909874</td>\n",
       "      <td>0.772714</td>\n",
       "      <td>0.971920</td>\n",
       "      <td>0.447922</td>\n",
       "    </tr>\n",
       "  </tbody>\n",
       "</table>\n",
       "<p>334 rows × 5 columns</p>\n",
       "</div>"
      ],
      "text/plain": [
       "            0         1         2         3         4\n",
       "333  0.113666  0.516478  0.664843  0.206453  0.539210\n",
       "332  0.974755  0.036153  0.393568  0.760682  0.641273\n",
       "331  0.766371  0.889653  0.327002  0.513125  0.955522\n",
       "330  0.275694  0.048875  0.548263  0.026233  0.996112\n",
       "329  0.484802  0.396057  0.986275  0.206240  0.287740\n",
       "..        ...       ...       ...       ...       ...\n",
       "4    0.334740  0.651902  0.954042  0.305123  0.323381\n",
       "3    0.225758  0.446069  0.721748  0.540165  0.294433\n",
       "2    0.268265  0.942172  0.689656  0.962866  0.480366\n",
       "1    0.406672  0.462661  0.764455  0.393632  0.980118\n",
       "0    0.645103  0.909874  0.772714  0.971920  0.447922\n",
       "\n",
       "[334 rows x 5 columns]"
      ]
     },
     "execution_count": 63,
     "metadata": {},
     "output_type": "execute_result"
    }
   ],
   "source": [
    "new_df.sort_index(axis = 0, ascending = False)"
   ]
  },
  {
   "cell_type": "markdown",
   "id": "4e0ec96d",
   "metadata": {},
   "source": [
    "### Create a copy of the DataFrame"
   ]
  },
  {
   "cell_type": "code",
   "execution_count": 66,
   "id": "25abfbfe",
   "metadata": {},
   "outputs": [],
   "source": [
    "new_df2 = new_df[:] # We can also do new_df2 = new_df.copy()"
   ]
  },
  {
   "cell_type": "code",
   "execution_count": 67,
   "id": "4918c06b",
   "metadata": {},
   "outputs": [
    {
     "data": {
      "text/html": [
       "<div>\n",
       "<style scoped>\n",
       "    .dataframe tbody tr th:only-of-type {\n",
       "        vertical-align: middle;\n",
       "    }\n",
       "\n",
       "    .dataframe tbody tr th {\n",
       "        vertical-align: top;\n",
       "    }\n",
       "\n",
       "    .dataframe thead th {\n",
       "        text-align: right;\n",
       "    }\n",
       "</style>\n",
       "<table border=\"1\" class=\"dataframe\">\n",
       "  <thead>\n",
       "    <tr style=\"text-align: right;\">\n",
       "      <th></th>\n",
       "      <th>0</th>\n",
       "      <th>1</th>\n",
       "      <th>2</th>\n",
       "      <th>3</th>\n",
       "      <th>4</th>\n",
       "    </tr>\n",
       "  </thead>\n",
       "  <tbody>\n",
       "    <tr>\n",
       "      <th>0</th>\n",
       "      <td>0.645103</td>\n",
       "      <td>0.909874</td>\n",
       "      <td>0.772714</td>\n",
       "      <td>0.971920</td>\n",
       "      <td>0.447922</td>\n",
       "    </tr>\n",
       "    <tr>\n",
       "      <th>1</th>\n",
       "      <td>0.406672</td>\n",
       "      <td>0.462661</td>\n",
       "      <td>0.764455</td>\n",
       "      <td>0.393632</td>\n",
       "      <td>0.980118</td>\n",
       "    </tr>\n",
       "    <tr>\n",
       "      <th>2</th>\n",
       "      <td>0.268265</td>\n",
       "      <td>0.942172</td>\n",
       "      <td>0.689656</td>\n",
       "      <td>0.962866</td>\n",
       "      <td>0.480366</td>\n",
       "    </tr>\n",
       "    <tr>\n",
       "      <th>3</th>\n",
       "      <td>0.225758</td>\n",
       "      <td>0.446069</td>\n",
       "      <td>0.721748</td>\n",
       "      <td>0.540165</td>\n",
       "      <td>0.294433</td>\n",
       "    </tr>\n",
       "    <tr>\n",
       "      <th>4</th>\n",
       "      <td>0.334740</td>\n",
       "      <td>0.651902</td>\n",
       "      <td>0.954042</td>\n",
       "      <td>0.305123</td>\n",
       "      <td>0.323381</td>\n",
       "    </tr>\n",
       "    <tr>\n",
       "      <th>...</th>\n",
       "      <td>...</td>\n",
       "      <td>...</td>\n",
       "      <td>...</td>\n",
       "      <td>...</td>\n",
       "      <td>...</td>\n",
       "    </tr>\n",
       "    <tr>\n",
       "      <th>329</th>\n",
       "      <td>0.484802</td>\n",
       "      <td>0.396057</td>\n",
       "      <td>0.986275</td>\n",
       "      <td>0.206240</td>\n",
       "      <td>0.287740</td>\n",
       "    </tr>\n",
       "    <tr>\n",
       "      <th>330</th>\n",
       "      <td>0.275694</td>\n",
       "      <td>0.048875</td>\n",
       "      <td>0.548263</td>\n",
       "      <td>0.026233</td>\n",
       "      <td>0.996112</td>\n",
       "    </tr>\n",
       "    <tr>\n",
       "      <th>331</th>\n",
       "      <td>0.766371</td>\n",
       "      <td>0.889653</td>\n",
       "      <td>0.327002</td>\n",
       "      <td>0.513125</td>\n",
       "      <td>0.955522</td>\n",
       "    </tr>\n",
       "    <tr>\n",
       "      <th>332</th>\n",
       "      <td>0.974755</td>\n",
       "      <td>0.036153</td>\n",
       "      <td>0.393568</td>\n",
       "      <td>0.760682</td>\n",
       "      <td>0.641273</td>\n",
       "    </tr>\n",
       "    <tr>\n",
       "      <th>333</th>\n",
       "      <td>0.113666</td>\n",
       "      <td>0.516478</td>\n",
       "      <td>0.664843</td>\n",
       "      <td>0.206453</td>\n",
       "      <td>0.539210</td>\n",
       "    </tr>\n",
       "  </tbody>\n",
       "</table>\n",
       "<p>334 rows × 5 columns</p>\n",
       "</div>"
      ],
      "text/plain": [
       "            0         1         2         3         4\n",
       "0    0.645103  0.909874  0.772714  0.971920  0.447922\n",
       "1    0.406672  0.462661  0.764455  0.393632  0.980118\n",
       "2    0.268265  0.942172  0.689656  0.962866  0.480366\n",
       "3    0.225758  0.446069  0.721748  0.540165  0.294433\n",
       "4    0.334740  0.651902  0.954042  0.305123  0.323381\n",
       "..        ...       ...       ...       ...       ...\n",
       "329  0.484802  0.396057  0.986275  0.206240  0.287740\n",
       "330  0.275694  0.048875  0.548263  0.026233  0.996112\n",
       "331  0.766371  0.889653  0.327002  0.513125  0.955522\n",
       "332  0.974755  0.036153  0.393568  0.760682  0.641273\n",
       "333  0.113666  0.516478  0.664843  0.206453  0.539210\n",
       "\n",
       "[334 rows x 5 columns]"
      ]
     },
     "execution_count": 67,
     "metadata": {},
     "output_type": "execute_result"
    }
   ],
   "source": [
    "new_df2"
   ]
  },
  {
   "cell_type": "markdown",
   "id": "bdc5c601",
   "metadata": {},
   "source": [
    "### Update some values of the DataFrame"
   ]
  },
  {
   "cell_type": "code",
   "execution_count": 68,
   "id": "029df920",
   "metadata": {},
   "outputs": [],
   "source": [
    "new_df.loc[0, 0] = 0.547844"
   ]
  },
  {
   "cell_type": "code",
   "execution_count": 70,
   "id": "51cb7592",
   "metadata": {},
   "outputs": [
    {
     "data": {
      "text/html": [
       "<div>\n",
       "<style scoped>\n",
       "    .dataframe tbody tr th:only-of-type {\n",
       "        vertical-align: middle;\n",
       "    }\n",
       "\n",
       "    .dataframe tbody tr th {\n",
       "        vertical-align: top;\n",
       "    }\n",
       "\n",
       "    .dataframe thead th {\n",
       "        text-align: right;\n",
       "    }\n",
       "</style>\n",
       "<table border=\"1\" class=\"dataframe\">\n",
       "  <thead>\n",
       "    <tr style=\"text-align: right;\">\n",
       "      <th></th>\n",
       "      <th>0</th>\n",
       "      <th>1</th>\n",
       "      <th>2</th>\n",
       "      <th>3</th>\n",
       "      <th>4</th>\n",
       "    </tr>\n",
       "  </thead>\n",
       "  <tbody>\n",
       "    <tr>\n",
       "      <th>0</th>\n",
       "      <td>0.547844</td>\n",
       "      <td>0.909874</td>\n",
       "      <td>0.772714</td>\n",
       "      <td>0.971920</td>\n",
       "      <td>0.447922</td>\n",
       "    </tr>\n",
       "    <tr>\n",
       "      <th>1</th>\n",
       "      <td>0.406672</td>\n",
       "      <td>0.462661</td>\n",
       "      <td>0.764455</td>\n",
       "      <td>0.393632</td>\n",
       "      <td>0.980118</td>\n",
       "    </tr>\n",
       "    <tr>\n",
       "      <th>2</th>\n",
       "      <td>0.268265</td>\n",
       "      <td>0.942172</td>\n",
       "      <td>0.689656</td>\n",
       "      <td>0.962866</td>\n",
       "      <td>0.480366</td>\n",
       "    </tr>\n",
       "    <tr>\n",
       "      <th>3</th>\n",
       "      <td>0.225758</td>\n",
       "      <td>0.446069</td>\n",
       "      <td>0.721748</td>\n",
       "      <td>0.540165</td>\n",
       "      <td>0.294433</td>\n",
       "    </tr>\n",
       "    <tr>\n",
       "      <th>4</th>\n",
       "      <td>0.334740</td>\n",
       "      <td>0.651902</td>\n",
       "      <td>0.954042</td>\n",
       "      <td>0.305123</td>\n",
       "      <td>0.323381</td>\n",
       "    </tr>\n",
       "  </tbody>\n",
       "</table>\n",
       "</div>"
      ],
      "text/plain": [
       "          0         1         2         3         4\n",
       "0  0.547844  0.909874  0.772714  0.971920  0.447922\n",
       "1  0.406672  0.462661  0.764455  0.393632  0.980118\n",
       "2  0.268265  0.942172  0.689656  0.962866  0.480366\n",
       "3  0.225758  0.446069  0.721748  0.540165  0.294433\n",
       "4  0.334740  0.651902  0.954042  0.305123  0.323381"
      ]
     },
     "execution_count": 70,
     "metadata": {},
     "output_type": "execute_result"
    }
   ],
   "source": [
    "new_df.head()"
   ]
  },
  {
   "cell_type": "code",
   "execution_count": 90,
   "id": "433d3c61",
   "metadata": {},
   "outputs": [],
   "source": [
    "new_df.loc[0, 5] = 0.14758"
   ]
  },
  {
   "cell_type": "code",
   "execution_count": 91,
   "id": "9f63f20b",
   "metadata": {},
   "outputs": [
    {
     "data": {
      "text/html": [
       "<div>\n",
       "<style scoped>\n",
       "    .dataframe tbody tr th:only-of-type {\n",
       "        vertical-align: middle;\n",
       "    }\n",
       "\n",
       "    .dataframe tbody tr th {\n",
       "        vertical-align: top;\n",
       "    }\n",
       "\n",
       "    .dataframe thead th {\n",
       "        text-align: right;\n",
       "    }\n",
       "</style>\n",
       "<table border=\"1\" class=\"dataframe\">\n",
       "  <thead>\n",
       "    <tr style=\"text-align: right;\">\n",
       "      <th></th>\n",
       "      <th>0</th>\n",
       "      <th>1</th>\n",
       "      <th>2</th>\n",
       "      <th>3</th>\n",
       "      <th>4</th>\n",
       "      <th>5</th>\n",
       "    </tr>\n",
       "  </thead>\n",
       "  <tbody>\n",
       "    <tr>\n",
       "      <th>0</th>\n",
       "      <td>0.547844</td>\n",
       "      <td>0.909874</td>\n",
       "      <td>0.772714</td>\n",
       "      <td>0.971920</td>\n",
       "      <td>0.447922</td>\n",
       "      <td>0.14758</td>\n",
       "    </tr>\n",
       "    <tr>\n",
       "      <th>1</th>\n",
       "      <td>0.406672</td>\n",
       "      <td>0.462661</td>\n",
       "      <td>0.764455</td>\n",
       "      <td>0.393632</td>\n",
       "      <td>0.980118</td>\n",
       "      <td>NaN</td>\n",
       "    </tr>\n",
       "    <tr>\n",
       "      <th>2</th>\n",
       "      <td>0.268265</td>\n",
       "      <td>0.942172</td>\n",
       "      <td>0.689656</td>\n",
       "      <td>0.962866</td>\n",
       "      <td>0.480366</td>\n",
       "      <td>NaN</td>\n",
       "    </tr>\n",
       "    <tr>\n",
       "      <th>3</th>\n",
       "      <td>0.225758</td>\n",
       "      <td>0.446069</td>\n",
       "      <td>0.721748</td>\n",
       "      <td>0.540165</td>\n",
       "      <td>0.294433</td>\n",
       "      <td>NaN</td>\n",
       "    </tr>\n",
       "    <tr>\n",
       "      <th>4</th>\n",
       "      <td>0.334740</td>\n",
       "      <td>0.651902</td>\n",
       "      <td>0.954042</td>\n",
       "      <td>0.305123</td>\n",
       "      <td>0.323381</td>\n",
       "      <td>NaN</td>\n",
       "    </tr>\n",
       "  </tbody>\n",
       "</table>\n",
       "</div>"
      ],
      "text/plain": [
       "          0         1         2         3         4        5\n",
       "0  0.547844  0.909874  0.772714  0.971920  0.447922  0.14758\n",
       "1  0.406672  0.462661  0.764455  0.393632  0.980118      NaN\n",
       "2  0.268265  0.942172  0.689656  0.962866  0.480366      NaN\n",
       "3  0.225758  0.446069  0.721748  0.540165  0.294433      NaN\n",
       "4  0.334740  0.651902  0.954042  0.305123  0.323381      NaN"
      ]
     },
     "execution_count": 91,
     "metadata": {},
     "output_type": "execute_result"
    }
   ],
   "source": [
    "new_df.head()"
   ]
  },
  {
   "cell_type": "markdown",
   "id": "efb61e35",
   "metadata": {},
   "source": [
    "### Delete the 5th Column from our DataFrame"
   ]
  },
  {
   "cell_type": "code",
   "execution_count": 92,
   "id": "ced91f66",
   "metadata": {},
   "outputs": [],
   "source": [
    "new_df = new_df.drop(5, axis = 1) # axis = 1 specifies, that we have to delete the 5th Column"
   ]
  },
  {
   "cell_type": "code",
   "execution_count": 93,
   "id": "b8ae0ea2",
   "metadata": {},
   "outputs": [
    {
     "data": {
      "text/html": [
       "<div>\n",
       "<style scoped>\n",
       "    .dataframe tbody tr th:only-of-type {\n",
       "        vertical-align: middle;\n",
       "    }\n",
       "\n",
       "    .dataframe tbody tr th {\n",
       "        vertical-align: top;\n",
       "    }\n",
       "\n",
       "    .dataframe thead th {\n",
       "        text-align: right;\n",
       "    }\n",
       "</style>\n",
       "<table border=\"1\" class=\"dataframe\">\n",
       "  <thead>\n",
       "    <tr style=\"text-align: right;\">\n",
       "      <th></th>\n",
       "      <th>0</th>\n",
       "      <th>1</th>\n",
       "      <th>2</th>\n",
       "      <th>3</th>\n",
       "      <th>4</th>\n",
       "    </tr>\n",
       "  </thead>\n",
       "  <tbody>\n",
       "    <tr>\n",
       "      <th>0</th>\n",
       "      <td>0.547844</td>\n",
       "      <td>0.909874</td>\n",
       "      <td>0.772714</td>\n",
       "      <td>0.971920</td>\n",
       "      <td>0.447922</td>\n",
       "    </tr>\n",
       "    <tr>\n",
       "      <th>1</th>\n",
       "      <td>0.406672</td>\n",
       "      <td>0.462661</td>\n",
       "      <td>0.764455</td>\n",
       "      <td>0.393632</td>\n",
       "      <td>0.980118</td>\n",
       "    </tr>\n",
       "    <tr>\n",
       "      <th>2</th>\n",
       "      <td>0.268265</td>\n",
       "      <td>0.942172</td>\n",
       "      <td>0.689656</td>\n",
       "      <td>0.962866</td>\n",
       "      <td>0.480366</td>\n",
       "    </tr>\n",
       "    <tr>\n",
       "      <th>3</th>\n",
       "      <td>0.225758</td>\n",
       "      <td>0.446069</td>\n",
       "      <td>0.721748</td>\n",
       "      <td>0.540165</td>\n",
       "      <td>0.294433</td>\n",
       "    </tr>\n",
       "    <tr>\n",
       "      <th>4</th>\n",
       "      <td>0.334740</td>\n",
       "      <td>0.651902</td>\n",
       "      <td>0.954042</td>\n",
       "      <td>0.305123</td>\n",
       "      <td>0.323381</td>\n",
       "    </tr>\n",
       "  </tbody>\n",
       "</table>\n",
       "</div>"
      ],
      "text/plain": [
       "          0         1         2         3         4\n",
       "0  0.547844  0.909874  0.772714  0.971920  0.447922\n",
       "1  0.406672  0.462661  0.764455  0.393632  0.980118\n",
       "2  0.268265  0.942172  0.689656  0.962866  0.480366\n",
       "3  0.225758  0.446069  0.721748  0.540165  0.294433\n",
       "4  0.334740  0.651902  0.954042  0.305123  0.323381"
      ]
     },
     "execution_count": 93,
     "metadata": {},
     "output_type": "execute_result"
    }
   ],
   "source": [
    "new_df.head()"
   ]
  },
  {
   "cell_type": "markdown",
   "id": "1f24ec84",
   "metadata": {},
   "source": [
    "### Get some specified Colums"
   ]
  },
  {
   "cell_type": "code",
   "execution_count": 94,
   "id": "37a36f13",
   "metadata": {},
   "outputs": [
    {
     "data": {
      "text/html": [
       "<div>\n",
       "<style scoped>\n",
       "    .dataframe tbody tr th:only-of-type {\n",
       "        vertical-align: middle;\n",
       "    }\n",
       "\n",
       "    .dataframe tbody tr th {\n",
       "        vertical-align: top;\n",
       "    }\n",
       "\n",
       "    .dataframe thead th {\n",
       "        text-align: right;\n",
       "    }\n",
       "</style>\n",
       "<table border=\"1\" class=\"dataframe\">\n",
       "  <thead>\n",
       "    <tr style=\"text-align: right;\">\n",
       "      <th></th>\n",
       "      <th>0</th>\n",
       "      <th>1</th>\n",
       "    </tr>\n",
       "  </thead>\n",
       "  <tbody>\n",
       "    <tr>\n",
       "      <th>1</th>\n",
       "      <td>0.406672</td>\n",
       "      <td>0.462661</td>\n",
       "    </tr>\n",
       "    <tr>\n",
       "      <th>2</th>\n",
       "      <td>0.268265</td>\n",
       "      <td>0.942172</td>\n",
       "    </tr>\n",
       "  </tbody>\n",
       "</table>\n",
       "</div>"
      ],
      "text/plain": [
       "          0         1\n",
       "1  0.406672  0.462661\n",
       "2  0.268265  0.942172"
      ]
     },
     "execution_count": 94,
     "metadata": {},
     "output_type": "execute_result"
    }
   ],
   "source": [
    "new_df.loc[[1, 2], [0, 1]]"
   ]
  },
  {
   "cell_type": "markdown",
   "id": "8d8a10c1",
   "metadata": {},
   "source": [
    "### Get the data from the First Column when entries are greater than 0.3"
   ]
  },
  {
   "cell_type": "code",
   "execution_count": 95,
   "id": "c02bb726",
   "metadata": {},
   "outputs": [
    {
     "data": {
      "text/html": [
       "<div>\n",
       "<style scoped>\n",
       "    .dataframe tbody tr th:only-of-type {\n",
       "        vertical-align: middle;\n",
       "    }\n",
       "\n",
       "    .dataframe tbody tr th {\n",
       "        vertical-align: top;\n",
       "    }\n",
       "\n",
       "    .dataframe thead th {\n",
       "        text-align: right;\n",
       "    }\n",
       "</style>\n",
       "<table border=\"1\" class=\"dataframe\">\n",
       "  <thead>\n",
       "    <tr style=\"text-align: right;\">\n",
       "      <th></th>\n",
       "      <th>0</th>\n",
       "      <th>1</th>\n",
       "      <th>2</th>\n",
       "      <th>3</th>\n",
       "      <th>4</th>\n",
       "    </tr>\n",
       "  </thead>\n",
       "  <tbody>\n",
       "    <tr>\n",
       "      <th>2</th>\n",
       "      <td>0.268265</td>\n",
       "      <td>0.942172</td>\n",
       "      <td>0.689656</td>\n",
       "      <td>0.962866</td>\n",
       "      <td>0.480366</td>\n",
       "    </tr>\n",
       "    <tr>\n",
       "      <th>3</th>\n",
       "      <td>0.225758</td>\n",
       "      <td>0.446069</td>\n",
       "      <td>0.721748</td>\n",
       "      <td>0.540165</td>\n",
       "      <td>0.294433</td>\n",
       "    </tr>\n",
       "    <tr>\n",
       "      <th>8</th>\n",
       "      <td>0.136907</td>\n",
       "      <td>0.630575</td>\n",
       "      <td>0.983205</td>\n",
       "      <td>0.073348</td>\n",
       "      <td>0.864935</td>\n",
       "    </tr>\n",
       "    <tr>\n",
       "      <th>10</th>\n",
       "      <td>0.190342</td>\n",
       "      <td>0.862562</td>\n",
       "      <td>0.546203</td>\n",
       "      <td>0.536401</td>\n",
       "      <td>0.964384</td>\n",
       "    </tr>\n",
       "    <tr>\n",
       "      <th>25</th>\n",
       "      <td>0.048349</td>\n",
       "      <td>0.045761</td>\n",
       "      <td>0.107059</td>\n",
       "      <td>0.808448</td>\n",
       "      <td>0.981382</td>\n",
       "    </tr>\n",
       "    <tr>\n",
       "      <th>...</th>\n",
       "      <td>...</td>\n",
       "      <td>...</td>\n",
       "      <td>...</td>\n",
       "      <td>...</td>\n",
       "      <td>...</td>\n",
       "    </tr>\n",
       "    <tr>\n",
       "      <th>321</th>\n",
       "      <td>0.197955</td>\n",
       "      <td>0.374193</td>\n",
       "      <td>0.225419</td>\n",
       "      <td>0.727813</td>\n",
       "      <td>0.549581</td>\n",
       "    </tr>\n",
       "    <tr>\n",
       "      <th>322</th>\n",
       "      <td>0.106474</td>\n",
       "      <td>0.127239</td>\n",
       "      <td>0.253936</td>\n",
       "      <td>0.786246</td>\n",
       "      <td>0.014649</td>\n",
       "    </tr>\n",
       "    <tr>\n",
       "      <th>328</th>\n",
       "      <td>0.177254</td>\n",
       "      <td>0.778096</td>\n",
       "      <td>0.578948</td>\n",
       "      <td>0.551473</td>\n",
       "      <td>0.531812</td>\n",
       "    </tr>\n",
       "    <tr>\n",
       "      <th>330</th>\n",
       "      <td>0.275694</td>\n",
       "      <td>0.048875</td>\n",
       "      <td>0.548263</td>\n",
       "      <td>0.026233</td>\n",
       "      <td>0.996112</td>\n",
       "    </tr>\n",
       "    <tr>\n",
       "      <th>333</th>\n",
       "      <td>0.113666</td>\n",
       "      <td>0.516478</td>\n",
       "      <td>0.664843</td>\n",
       "      <td>0.206453</td>\n",
       "      <td>0.539210</td>\n",
       "    </tr>\n",
       "  </tbody>\n",
       "</table>\n",
       "<p>95 rows × 5 columns</p>\n",
       "</div>"
      ],
      "text/plain": [
       "            0         1         2         3         4\n",
       "2    0.268265  0.942172  0.689656  0.962866  0.480366\n",
       "3    0.225758  0.446069  0.721748  0.540165  0.294433\n",
       "8    0.136907  0.630575  0.983205  0.073348  0.864935\n",
       "10   0.190342  0.862562  0.546203  0.536401  0.964384\n",
       "25   0.048349  0.045761  0.107059  0.808448  0.981382\n",
       "..        ...       ...       ...       ...       ...\n",
       "321  0.197955  0.374193  0.225419  0.727813  0.549581\n",
       "322  0.106474  0.127239  0.253936  0.786246  0.014649\n",
       "328  0.177254  0.778096  0.578948  0.551473  0.531812\n",
       "330  0.275694  0.048875  0.548263  0.026233  0.996112\n",
       "333  0.113666  0.516478  0.664843  0.206453  0.539210\n",
       "\n",
       "[95 rows x 5 columns]"
      ]
     },
     "execution_count": 95,
     "metadata": {},
     "output_type": "execute_result"
    }
   ],
   "source": [
    "new_df.loc[(new_df[0] < 0.3)]"
   ]
  },
  {
   "cell_type": "markdown",
   "id": "280d7831",
   "metadata": {},
   "source": [
    "### Get the data from the First Column when entries are greater than 0.3 and the from the Third Columns having data greater than 0.1"
   ]
  },
  {
   "cell_type": "code",
   "execution_count": 99,
   "id": "09e578b6",
   "metadata": {},
   "outputs": [
    {
     "data": {
      "text/html": [
       "<div>\n",
       "<style scoped>\n",
       "    .dataframe tbody tr th:only-of-type {\n",
       "        vertical-align: middle;\n",
       "    }\n",
       "\n",
       "    .dataframe tbody tr th {\n",
       "        vertical-align: top;\n",
       "    }\n",
       "\n",
       "    .dataframe thead th {\n",
       "        text-align: right;\n",
       "    }\n",
       "</style>\n",
       "<table border=\"1\" class=\"dataframe\">\n",
       "  <thead>\n",
       "    <tr style=\"text-align: right;\">\n",
       "      <th></th>\n",
       "      <th>0</th>\n",
       "      <th>1</th>\n",
       "      <th>2</th>\n",
       "      <th>3</th>\n",
       "      <th>4</th>\n",
       "    </tr>\n",
       "  </thead>\n",
       "  <tbody>\n",
       "    <tr>\n",
       "      <th>2</th>\n",
       "      <td>0.268265</td>\n",
       "      <td>0.942172</td>\n",
       "      <td>0.689656</td>\n",
       "      <td>0.962866</td>\n",
       "      <td>0.480366</td>\n",
       "    </tr>\n",
       "    <tr>\n",
       "      <th>3</th>\n",
       "      <td>0.225758</td>\n",
       "      <td>0.446069</td>\n",
       "      <td>0.721748</td>\n",
       "      <td>0.540165</td>\n",
       "      <td>0.294433</td>\n",
       "    </tr>\n",
       "    <tr>\n",
       "      <th>8</th>\n",
       "      <td>0.136907</td>\n",
       "      <td>0.630575</td>\n",
       "      <td>0.983205</td>\n",
       "      <td>0.073348</td>\n",
       "      <td>0.864935</td>\n",
       "    </tr>\n",
       "    <tr>\n",
       "      <th>10</th>\n",
       "      <td>0.190342</td>\n",
       "      <td>0.862562</td>\n",
       "      <td>0.546203</td>\n",
       "      <td>0.536401</td>\n",
       "      <td>0.964384</td>\n",
       "    </tr>\n",
       "    <tr>\n",
       "      <th>25</th>\n",
       "      <td>0.048349</td>\n",
       "      <td>0.045761</td>\n",
       "      <td>0.107059</td>\n",
       "      <td>0.808448</td>\n",
       "      <td>0.981382</td>\n",
       "    </tr>\n",
       "    <tr>\n",
       "      <th>...</th>\n",
       "      <td>...</td>\n",
       "      <td>...</td>\n",
       "      <td>...</td>\n",
       "      <td>...</td>\n",
       "      <td>...</td>\n",
       "    </tr>\n",
       "    <tr>\n",
       "      <th>321</th>\n",
       "      <td>0.197955</td>\n",
       "      <td>0.374193</td>\n",
       "      <td>0.225419</td>\n",
       "      <td>0.727813</td>\n",
       "      <td>0.549581</td>\n",
       "    </tr>\n",
       "    <tr>\n",
       "      <th>322</th>\n",
       "      <td>0.106474</td>\n",
       "      <td>0.127239</td>\n",
       "      <td>0.253936</td>\n",
       "      <td>0.786246</td>\n",
       "      <td>0.014649</td>\n",
       "    </tr>\n",
       "    <tr>\n",
       "      <th>328</th>\n",
       "      <td>0.177254</td>\n",
       "      <td>0.778096</td>\n",
       "      <td>0.578948</td>\n",
       "      <td>0.551473</td>\n",
       "      <td>0.531812</td>\n",
       "    </tr>\n",
       "    <tr>\n",
       "      <th>330</th>\n",
       "      <td>0.275694</td>\n",
       "      <td>0.048875</td>\n",
       "      <td>0.548263</td>\n",
       "      <td>0.026233</td>\n",
       "      <td>0.996112</td>\n",
       "    </tr>\n",
       "    <tr>\n",
       "      <th>333</th>\n",
       "      <td>0.113666</td>\n",
       "      <td>0.516478</td>\n",
       "      <td>0.664843</td>\n",
       "      <td>0.206453</td>\n",
       "      <td>0.539210</td>\n",
       "    </tr>\n",
       "  </tbody>\n",
       "</table>\n",
       "<p>88 rows × 5 columns</p>\n",
       "</div>"
      ],
      "text/plain": [
       "            0         1         2         3         4\n",
       "2    0.268265  0.942172  0.689656  0.962866  0.480366\n",
       "3    0.225758  0.446069  0.721748  0.540165  0.294433\n",
       "8    0.136907  0.630575  0.983205  0.073348  0.864935\n",
       "10   0.190342  0.862562  0.546203  0.536401  0.964384\n",
       "25   0.048349  0.045761  0.107059  0.808448  0.981382\n",
       "..        ...       ...       ...       ...       ...\n",
       "321  0.197955  0.374193  0.225419  0.727813  0.549581\n",
       "322  0.106474  0.127239  0.253936  0.786246  0.014649\n",
       "328  0.177254  0.778096  0.578948  0.551473  0.531812\n",
       "330  0.275694  0.048875  0.548263  0.026233  0.996112\n",
       "333  0.113666  0.516478  0.664843  0.206453  0.539210\n",
       "\n",
       "[88 rows x 5 columns]"
      ]
     },
     "execution_count": 99,
     "metadata": {},
     "output_type": "execute_result"
    }
   ],
   "source": [
    "new_df.loc[(new_df[0] < 0.3) & (new_df[2] > 0.1)]"
   ]
  },
  {
   "cell_type": "markdown",
   "id": "2247c2d9",
   "metadata": {},
   "source": [
    "### Use of **iloc** Function"
   ]
  },
  {
   "cell_type": "markdown",
   "id": "571bae06",
   "metadata": {},
   "source": [
    "#### Get the data from 0th row and 4th column"
   ]
  },
  {
   "cell_type": "code",
   "execution_count": 100,
   "id": "c16c27d3",
   "metadata": {},
   "outputs": [
    {
     "data": {
      "text/html": [
       "<div>\n",
       "<style scoped>\n",
       "    .dataframe tbody tr th:only-of-type {\n",
       "        vertical-align: middle;\n",
       "    }\n",
       "\n",
       "    .dataframe tbody tr th {\n",
       "        vertical-align: top;\n",
       "    }\n",
       "\n",
       "    .dataframe thead th {\n",
       "        text-align: right;\n",
       "    }\n",
       "</style>\n",
       "<table border=\"1\" class=\"dataframe\">\n",
       "  <thead>\n",
       "    <tr style=\"text-align: right;\">\n",
       "      <th></th>\n",
       "      <th>0</th>\n",
       "      <th>1</th>\n",
       "      <th>2</th>\n",
       "      <th>3</th>\n",
       "      <th>4</th>\n",
       "    </tr>\n",
       "  </thead>\n",
       "  <tbody>\n",
       "    <tr>\n",
       "      <th>0</th>\n",
       "      <td>0.547844</td>\n",
       "      <td>0.909874</td>\n",
       "      <td>0.772714</td>\n",
       "      <td>0.971920</td>\n",
       "      <td>0.447922</td>\n",
       "    </tr>\n",
       "    <tr>\n",
       "      <th>1</th>\n",
       "      <td>0.406672</td>\n",
       "      <td>0.462661</td>\n",
       "      <td>0.764455</td>\n",
       "      <td>0.393632</td>\n",
       "      <td>0.980118</td>\n",
       "    </tr>\n",
       "    <tr>\n",
       "      <th>2</th>\n",
       "      <td>0.268265</td>\n",
       "      <td>0.942172</td>\n",
       "      <td>0.689656</td>\n",
       "      <td>0.962866</td>\n",
       "      <td>0.480366</td>\n",
       "    </tr>\n",
       "    <tr>\n",
       "      <th>3</th>\n",
       "      <td>0.225758</td>\n",
       "      <td>0.446069</td>\n",
       "      <td>0.721748</td>\n",
       "      <td>0.540165</td>\n",
       "      <td>0.294433</td>\n",
       "    </tr>\n",
       "    <tr>\n",
       "      <th>4</th>\n",
       "      <td>0.334740</td>\n",
       "      <td>0.651902</td>\n",
       "      <td>0.954042</td>\n",
       "      <td>0.305123</td>\n",
       "      <td>0.323381</td>\n",
       "    </tr>\n",
       "  </tbody>\n",
       "</table>\n",
       "</div>"
      ],
      "text/plain": [
       "          0         1         2         3         4\n",
       "0  0.547844  0.909874  0.772714  0.971920  0.447922\n",
       "1  0.406672  0.462661  0.764455  0.393632  0.980118\n",
       "2  0.268265  0.942172  0.689656  0.962866  0.480366\n",
       "3  0.225758  0.446069  0.721748  0.540165  0.294433\n",
       "4  0.334740  0.651902  0.954042  0.305123  0.323381"
      ]
     },
     "execution_count": 100,
     "metadata": {},
     "output_type": "execute_result"
    }
   ],
   "source": [
    "new_df.head()"
   ]
  },
  {
   "cell_type": "code",
   "execution_count": 98,
   "id": "a9b40d24",
   "metadata": {},
   "outputs": [
    {
     "data": {
      "text/plain": [
       "0.44792187251817295"
      ]
     },
     "execution_count": 98,
     "metadata": {},
     "output_type": "execute_result"
    }
   ],
   "source": [
    "new_df.iloc[0, 4]"
   ]
  },
  {
   "cell_type": "markdown",
   "id": "07ad189b",
   "metadata": {},
   "source": [
    "### Check for null values in a column"
   ]
  },
  {
   "cell_type": "code",
   "execution_count": 103,
   "id": "1284dd1b",
   "metadata": {},
   "outputs": [
    {
     "data": {
      "text/plain": [
       "0      False\n",
       "1      False\n",
       "2      False\n",
       "3      False\n",
       "4      False\n",
       "       ...  \n",
       "329    False\n",
       "330    False\n",
       "331    False\n",
       "332    False\n",
       "333    False\n",
       "Name: 2, Length: 334, dtype: bool"
      ]
     },
     "execution_count": 103,
     "metadata": {},
     "output_type": "execute_result"
    }
   ],
   "source": [
    "new_df[2].isnull()"
   ]
  },
  {
   "cell_type": "markdown",
   "id": "ddb88764",
   "metadata": {},
   "source": [
    "### Drop null values from the DataFrame"
   ]
  },
  {
   "cell_type": "code",
   "execution_count": 111,
   "id": "29ebf639",
   "metadata": {},
   "outputs": [],
   "source": [
    "df = pd.DataFrame({\"name\": ['Alfred', 'Batman', 'Catwoman'],\n",
    "                   \"toy\": [np.nan, 'Batmobile', 'Bullwhip'],\n",
    "                   \"born\": [pd.NaT, pd.Timestamp(\"1940-04-25\"),\n",
    "                            pd.NaT]})"
   ]
  },
  {
   "cell_type": "code",
   "execution_count": 112,
   "id": "3bf57e52",
   "metadata": {},
   "outputs": [
    {
     "data": {
      "text/html": [
       "<div>\n",
       "<style scoped>\n",
       "    .dataframe tbody tr th:only-of-type {\n",
       "        vertical-align: middle;\n",
       "    }\n",
       "\n",
       "    .dataframe tbody tr th {\n",
       "        vertical-align: top;\n",
       "    }\n",
       "\n",
       "    .dataframe thead th {\n",
       "        text-align: right;\n",
       "    }\n",
       "</style>\n",
       "<table border=\"1\" class=\"dataframe\">\n",
       "  <thead>\n",
       "    <tr style=\"text-align: right;\">\n",
       "      <th></th>\n",
       "      <th>name</th>\n",
       "      <th>toy</th>\n",
       "      <th>born</th>\n",
       "    </tr>\n",
       "  </thead>\n",
       "  <tbody>\n",
       "    <tr>\n",
       "      <th>0</th>\n",
       "      <td>Alfred</td>\n",
       "      <td>NaN</td>\n",
       "      <td>NaT</td>\n",
       "    </tr>\n",
       "    <tr>\n",
       "      <th>1</th>\n",
       "      <td>Batman</td>\n",
       "      <td>Batmobile</td>\n",
       "      <td>1940-04-25</td>\n",
       "    </tr>\n",
       "    <tr>\n",
       "      <th>2</th>\n",
       "      <td>Catwoman</td>\n",
       "      <td>Bullwhip</td>\n",
       "      <td>NaT</td>\n",
       "    </tr>\n",
       "  </tbody>\n",
       "</table>\n",
       "</div>"
      ],
      "text/plain": [
       "       name        toy       born\n",
       "0    Alfred        NaN        NaT\n",
       "1    Batman  Batmobile 1940-04-25\n",
       "2  Catwoman   Bullwhip        NaT"
      ]
     },
     "execution_count": 112,
     "metadata": {},
     "output_type": "execute_result"
    }
   ],
   "source": [
    "df.head()"
   ]
  },
  {
   "cell_type": "markdown",
   "id": "a3a49cac",
   "metadata": {},
   "source": [
    "#### Drop the rows where at least one element is missing."
   ]
  },
  {
   "cell_type": "code",
   "execution_count": 115,
   "id": "8bd73099",
   "metadata": {},
   "outputs": [
    {
     "data": {
      "text/html": [
       "<div>\n",
       "<style scoped>\n",
       "    .dataframe tbody tr th:only-of-type {\n",
       "        vertical-align: middle;\n",
       "    }\n",
       "\n",
       "    .dataframe tbody tr th {\n",
       "        vertical-align: top;\n",
       "    }\n",
       "\n",
       "    .dataframe thead th {\n",
       "        text-align: right;\n",
       "    }\n",
       "</style>\n",
       "<table border=\"1\" class=\"dataframe\">\n",
       "  <thead>\n",
       "    <tr style=\"text-align: right;\">\n",
       "      <th></th>\n",
       "      <th>name</th>\n",
       "      <th>toy</th>\n",
       "      <th>born</th>\n",
       "    </tr>\n",
       "  </thead>\n",
       "  <tbody>\n",
       "    <tr>\n",
       "      <th>1</th>\n",
       "      <td>Batman</td>\n",
       "      <td>Batmobile</td>\n",
       "      <td>1940-04-25</td>\n",
       "    </tr>\n",
       "  </tbody>\n",
       "</table>\n",
       "</div>"
      ],
      "text/plain": [
       "     name        toy       born\n",
       "1  Batman  Batmobile 1940-04-25"
      ]
     },
     "execution_count": 115,
     "metadata": {},
     "output_type": "execute_result"
    }
   ],
   "source": [
    "df.dropna()"
   ]
  },
  {
   "cell_type": "markdown",
   "id": "c8b0c382",
   "metadata": {},
   "source": [
    "#### Drop the columns where at least one element is missing."
   ]
  },
  {
   "cell_type": "code",
   "execution_count": 114,
   "id": "a0ae1420",
   "metadata": {},
   "outputs": [
    {
     "data": {
      "text/html": [
       "<div>\n",
       "<style scoped>\n",
       "    .dataframe tbody tr th:only-of-type {\n",
       "        vertical-align: middle;\n",
       "    }\n",
       "\n",
       "    .dataframe tbody tr th {\n",
       "        vertical-align: top;\n",
       "    }\n",
       "\n",
       "    .dataframe thead th {\n",
       "        text-align: right;\n",
       "    }\n",
       "</style>\n",
       "<table border=\"1\" class=\"dataframe\">\n",
       "  <thead>\n",
       "    <tr style=\"text-align: right;\">\n",
       "      <th></th>\n",
       "      <th>name</th>\n",
       "    </tr>\n",
       "  </thead>\n",
       "  <tbody>\n",
       "    <tr>\n",
       "      <th>0</th>\n",
       "      <td>Alfred</td>\n",
       "    </tr>\n",
       "    <tr>\n",
       "      <th>1</th>\n",
       "      <td>Batman</td>\n",
       "    </tr>\n",
       "    <tr>\n",
       "      <th>2</th>\n",
       "      <td>Catwoman</td>\n",
       "    </tr>\n",
       "  </tbody>\n",
       "</table>\n",
       "</div>"
      ],
      "text/plain": [
       "       name\n",
       "0    Alfred\n",
       "1    Batman\n",
       "2  Catwoman"
      ]
     },
     "execution_count": 114,
     "metadata": {},
     "output_type": "execute_result"
    }
   ],
   "source": [
    "df.dropna(axis='columns')"
   ]
  },
  {
   "cell_type": "markdown",
   "id": "ce56b8d3",
   "metadata": {},
   "source": [
    "#### Keep only the rows with at least 2 non-NA values."
   ]
  },
  {
   "cell_type": "code",
   "execution_count": 116,
   "id": "7ce06557",
   "metadata": {},
   "outputs": [
    {
     "data": {
      "text/html": [
       "<div>\n",
       "<style scoped>\n",
       "    .dataframe tbody tr th:only-of-type {\n",
       "        vertical-align: middle;\n",
       "    }\n",
       "\n",
       "    .dataframe tbody tr th {\n",
       "        vertical-align: top;\n",
       "    }\n",
       "\n",
       "    .dataframe thead th {\n",
       "        text-align: right;\n",
       "    }\n",
       "</style>\n",
       "<table border=\"1\" class=\"dataframe\">\n",
       "  <thead>\n",
       "    <tr style=\"text-align: right;\">\n",
       "      <th></th>\n",
       "      <th>name</th>\n",
       "      <th>toy</th>\n",
       "      <th>born</th>\n",
       "    </tr>\n",
       "  </thead>\n",
       "  <tbody>\n",
       "    <tr>\n",
       "      <th>1</th>\n",
       "      <td>Batman</td>\n",
       "      <td>Batmobile</td>\n",
       "      <td>1940-04-25</td>\n",
       "    </tr>\n",
       "    <tr>\n",
       "      <th>2</th>\n",
       "      <td>Catwoman</td>\n",
       "      <td>Bullwhip</td>\n",
       "      <td>NaT</td>\n",
       "    </tr>\n",
       "  </tbody>\n",
       "</table>\n",
       "</div>"
      ],
      "text/plain": [
       "       name        toy       born\n",
       "1    Batman  Batmobile 1940-04-25\n",
       "2  Catwoman   Bullwhip        NaT"
      ]
     },
     "execution_count": 116,
     "metadata": {},
     "output_type": "execute_result"
    }
   ],
   "source": [
    "df.dropna(thresh=2)"
   ]
  },
  {
   "cell_type": "markdown",
   "id": "b9449407",
   "metadata": {},
   "source": [
    "#### Define in which columns to look for missing values."
   ]
  },
  {
   "cell_type": "code",
   "execution_count": 117,
   "id": "bf591d74",
   "metadata": {},
   "outputs": [
    {
     "data": {
      "text/html": [
       "<div>\n",
       "<style scoped>\n",
       "    .dataframe tbody tr th:only-of-type {\n",
       "        vertical-align: middle;\n",
       "    }\n",
       "\n",
       "    .dataframe tbody tr th {\n",
       "        vertical-align: top;\n",
       "    }\n",
       "\n",
       "    .dataframe thead th {\n",
       "        text-align: right;\n",
       "    }\n",
       "</style>\n",
       "<table border=\"1\" class=\"dataframe\">\n",
       "  <thead>\n",
       "    <tr style=\"text-align: right;\">\n",
       "      <th></th>\n",
       "      <th>name</th>\n",
       "      <th>toy</th>\n",
       "      <th>born</th>\n",
       "    </tr>\n",
       "  </thead>\n",
       "  <tbody>\n",
       "    <tr>\n",
       "      <th>1</th>\n",
       "      <td>Batman</td>\n",
       "      <td>Batmobile</td>\n",
       "      <td>1940-04-25</td>\n",
       "    </tr>\n",
       "    <tr>\n",
       "      <th>2</th>\n",
       "      <td>Catwoman</td>\n",
       "      <td>Bullwhip</td>\n",
       "      <td>NaT</td>\n",
       "    </tr>\n",
       "  </tbody>\n",
       "</table>\n",
       "</div>"
      ],
      "text/plain": [
       "       name        toy       born\n",
       "1    Batman  Batmobile 1940-04-25\n",
       "2  Catwoman   Bullwhip        NaT"
      ]
     },
     "execution_count": 117,
     "metadata": {},
     "output_type": "execute_result"
    }
   ],
   "source": [
    "df.dropna(subset=['name', 'toy'])"
   ]
  },
  {
   "cell_type": "markdown",
   "id": "068ee1e7",
   "metadata": {},
   "source": [
    "#### Keep the DataFrame with valid entries in the same variable."
   ]
  },
  {
   "cell_type": "code",
   "execution_count": 118,
   "id": "f12449cb",
   "metadata": {},
   "outputs": [
    {
     "data": {
      "text/html": [
       "<div>\n",
       "<style scoped>\n",
       "    .dataframe tbody tr th:only-of-type {\n",
       "        vertical-align: middle;\n",
       "    }\n",
       "\n",
       "    .dataframe tbody tr th {\n",
       "        vertical-align: top;\n",
       "    }\n",
       "\n",
       "    .dataframe thead th {\n",
       "        text-align: right;\n",
       "    }\n",
       "</style>\n",
       "<table border=\"1\" class=\"dataframe\">\n",
       "  <thead>\n",
       "    <tr style=\"text-align: right;\">\n",
       "      <th></th>\n",
       "      <th>name</th>\n",
       "      <th>toy</th>\n",
       "      <th>born</th>\n",
       "    </tr>\n",
       "  </thead>\n",
       "  <tbody>\n",
       "    <tr>\n",
       "      <th>1</th>\n",
       "      <td>Batman</td>\n",
       "      <td>Batmobile</td>\n",
       "      <td>1940-04-25</td>\n",
       "    </tr>\n",
       "  </tbody>\n",
       "</table>\n",
       "</div>"
      ],
      "text/plain": [
       "     name        toy       born\n",
       "1  Batman  Batmobile 1940-04-25"
      ]
     },
     "execution_count": 118,
     "metadata": {},
     "output_type": "execute_result"
    }
   ],
   "source": [
    "df.dropna(inplace=True)\n",
    "df"
   ]
  },
  {
   "cell_type": "markdown",
   "id": "a1d256fd",
   "metadata": {},
   "source": [
    "#### Get different values from a column"
   ]
  },
  {
   "cell_type": "code",
   "execution_count": 119,
   "id": "7c918b97",
   "metadata": {},
   "outputs": [
    {
     "name": "stdout",
     "output_type": "stream",
     "text": [
      "<class 'pandas.core.frame.DataFrame'>\n",
      "Int64Index: 1 entries, 1 to 1\n",
      "Data columns (total 3 columns):\n",
      " #   Column  Non-Null Count  Dtype         \n",
      "---  ------  --------------  -----         \n",
      " 0   name    1 non-null      object        \n",
      " 1   toy     1 non-null      object        \n",
      " 2   born    1 non-null      datetime64[ns]\n",
      "dtypes: datetime64[ns](1), object(2)\n",
      "memory usage: 32.0+ bytes\n"
     ]
    }
   ],
   "source": [
    "df.info()"
   ]
  },
  {
   "cell_type": "code",
   "execution_count": 121,
   "id": "e8da95c2",
   "metadata": {},
   "outputs": [
    {
     "data": {
      "text/plain": [
       "Batmobile    1\n",
       "Name: toy, dtype: int64"
      ]
     },
     "execution_count": 121,
     "metadata": {},
     "output_type": "execute_result"
    }
   ],
   "source": [
    "df['toy'].value_counts(dropna=False)"
   ]
  },
  {
   "cell_type": "markdown",
   "id": "be4a7987",
   "metadata": {},
   "source": [
    "#### Get the indices, that contains non-null values"
   ]
  },
  {
   "cell_type": "code",
   "execution_count": 122,
   "id": "ffe90ec0",
   "metadata": {},
   "outputs": [
    {
     "data": {
      "text/html": [
       "<div>\n",
       "<style scoped>\n",
       "    .dataframe tbody tr th:only-of-type {\n",
       "        vertical-align: middle;\n",
       "    }\n",
       "\n",
       "    .dataframe tbody tr th {\n",
       "        vertical-align: top;\n",
       "    }\n",
       "\n",
       "    .dataframe thead th {\n",
       "        text-align: right;\n",
       "    }\n",
       "</style>\n",
       "<table border=\"1\" class=\"dataframe\">\n",
       "  <thead>\n",
       "    <tr style=\"text-align: right;\">\n",
       "      <th></th>\n",
       "      <th>name</th>\n",
       "      <th>toy</th>\n",
       "      <th>born</th>\n",
       "    </tr>\n",
       "  </thead>\n",
       "  <tbody>\n",
       "    <tr>\n",
       "      <th>1</th>\n",
       "      <td>True</td>\n",
       "      <td>True</td>\n",
       "      <td>True</td>\n",
       "    </tr>\n",
       "  </tbody>\n",
       "</table>\n",
       "</div>"
      ],
      "text/plain": [
       "   name   toy  born\n",
       "1  True  True  True"
      ]
     },
     "execution_count": 122,
     "metadata": {},
     "output_type": "execute_result"
    }
   ],
   "source": [
    "df.notnull()"
   ]
  },
  {
   "cell_type": "markdown",
   "id": "64b62dad",
   "metadata": {},
   "source": [
    "#### Check the indices for non-null values"
   ]
  },
  {
   "cell_type": "code",
   "execution_count": 123,
   "id": "df5d883f",
   "metadata": {},
   "outputs": [
    {
     "data": {
      "text/html": [
       "<div>\n",
       "<style scoped>\n",
       "    .dataframe tbody tr th:only-of-type {\n",
       "        vertical-align: middle;\n",
       "    }\n",
       "\n",
       "    .dataframe tbody tr th {\n",
       "        vertical-align: top;\n",
       "    }\n",
       "\n",
       "    .dataframe thead th {\n",
       "        text-align: right;\n",
       "    }\n",
       "</style>\n",
       "<table border=\"1\" class=\"dataframe\">\n",
       "  <thead>\n",
       "    <tr style=\"text-align: right;\">\n",
       "      <th></th>\n",
       "      <th>name</th>\n",
       "      <th>toy</th>\n",
       "      <th>born</th>\n",
       "    </tr>\n",
       "  </thead>\n",
       "  <tbody>\n",
       "    <tr>\n",
       "      <th>1</th>\n",
       "      <td>False</td>\n",
       "      <td>False</td>\n",
       "      <td>False</td>\n",
       "    </tr>\n",
       "  </tbody>\n",
       "</table>\n",
       "</div>"
      ],
      "text/plain": [
       "    name    toy   born\n",
       "1  False  False  False"
      ]
     },
     "execution_count": 123,
     "metadata": {},
     "output_type": "execute_result"
    }
   ],
   "source": [
    "df.isnull()"
   ]
  },
  {
   "cell_type": "markdown",
   "id": "1b7cb15f",
   "metadata": {},
   "source": [
    "### Statistical Analysis with Pandas"
   ]
  },
  {
   "cell_type": "code",
   "execution_count": 124,
   "id": "75f5e21f",
   "metadata": {},
   "outputs": [
    {
     "data": {
      "text/html": [
       "<div>\n",
       "<style scoped>\n",
       "    .dataframe tbody tr th:only-of-type {\n",
       "        vertical-align: middle;\n",
       "    }\n",
       "\n",
       "    .dataframe tbody tr th {\n",
       "        vertical-align: top;\n",
       "    }\n",
       "\n",
       "    .dataframe thead th {\n",
       "        text-align: right;\n",
       "    }\n",
       "</style>\n",
       "<table border=\"1\" class=\"dataframe\">\n",
       "  <thead>\n",
       "    <tr style=\"text-align: right;\">\n",
       "      <th></th>\n",
       "      <th>YearsExperience</th>\n",
       "      <th>Salary</th>\n",
       "    </tr>\n",
       "  </thead>\n",
       "  <tbody>\n",
       "    <tr>\n",
       "      <th>0</th>\n",
       "      <td>1.1</td>\n",
       "      <td>39343.0</td>\n",
       "    </tr>\n",
       "    <tr>\n",
       "      <th>1</th>\n",
       "      <td>1.3</td>\n",
       "      <td>46205.0</td>\n",
       "    </tr>\n",
       "    <tr>\n",
       "      <th>2</th>\n",
       "      <td>1.5</td>\n",
       "      <td>37731.0</td>\n",
       "    </tr>\n",
       "    <tr>\n",
       "      <th>3</th>\n",
       "      <td>2.0</td>\n",
       "      <td>43525.0</td>\n",
       "    </tr>\n",
       "    <tr>\n",
       "      <th>4</th>\n",
       "      <td>2.2</td>\n",
       "      <td>39891.0</td>\n",
       "    </tr>\n",
       "  </tbody>\n",
       "</table>\n",
       "</div>"
      ],
      "text/plain": [
       "   YearsExperience   Salary\n",
       "0              1.1  39343.0\n",
       "1              1.3  46205.0\n",
       "2              1.5  37731.0\n",
       "3              2.0  43525.0\n",
       "4              2.2  39891.0"
      ]
     },
     "execution_count": 124,
     "metadata": {},
     "output_type": "execute_result"
    }
   ],
   "source": [
    "dataframe.head()"
   ]
  },
  {
   "cell_type": "code",
   "execution_count": 125,
   "id": "11c889fb",
   "metadata": {},
   "outputs": [
    {
     "data": {
      "text/html": [
       "<div>\n",
       "<style scoped>\n",
       "    .dataframe tbody tr th:only-of-type {\n",
       "        vertical-align: middle;\n",
       "    }\n",
       "\n",
       "    .dataframe tbody tr th {\n",
       "        vertical-align: top;\n",
       "    }\n",
       "\n",
       "    .dataframe thead th {\n",
       "        text-align: right;\n",
       "    }\n",
       "</style>\n",
       "<table border=\"1\" class=\"dataframe\">\n",
       "  <thead>\n",
       "    <tr style=\"text-align: right;\">\n",
       "      <th></th>\n",
       "      <th>YearsExperience</th>\n",
       "      <th>Salary</th>\n",
       "    </tr>\n",
       "  </thead>\n",
       "  <tbody>\n",
       "    <tr>\n",
       "      <th>count</th>\n",
       "      <td>30.000000</td>\n",
       "      <td>30.000000</td>\n",
       "    </tr>\n",
       "    <tr>\n",
       "      <th>mean</th>\n",
       "      <td>5.313333</td>\n",
       "      <td>76003.000000</td>\n",
       "    </tr>\n",
       "    <tr>\n",
       "      <th>std</th>\n",
       "      <td>2.837888</td>\n",
       "      <td>27414.429785</td>\n",
       "    </tr>\n",
       "    <tr>\n",
       "      <th>min</th>\n",
       "      <td>1.100000</td>\n",
       "      <td>37731.000000</td>\n",
       "    </tr>\n",
       "    <tr>\n",
       "      <th>25%</th>\n",
       "      <td>3.200000</td>\n",
       "      <td>56720.750000</td>\n",
       "    </tr>\n",
       "    <tr>\n",
       "      <th>50%</th>\n",
       "      <td>4.700000</td>\n",
       "      <td>65237.000000</td>\n",
       "    </tr>\n",
       "    <tr>\n",
       "      <th>75%</th>\n",
       "      <td>7.700000</td>\n",
       "      <td>100544.750000</td>\n",
       "    </tr>\n",
       "    <tr>\n",
       "      <th>max</th>\n",
       "      <td>10.500000</td>\n",
       "      <td>122391.000000</td>\n",
       "    </tr>\n",
       "  </tbody>\n",
       "</table>\n",
       "</div>"
      ],
      "text/plain": [
       "       YearsExperience         Salary\n",
       "count        30.000000      30.000000\n",
       "mean          5.313333   76003.000000\n",
       "std           2.837888   27414.429785\n",
       "min           1.100000   37731.000000\n",
       "25%           3.200000   56720.750000\n",
       "50%           4.700000   65237.000000\n",
       "75%           7.700000  100544.750000\n",
       "max          10.500000  122391.000000"
      ]
     },
     "execution_count": 125,
     "metadata": {},
     "output_type": "execute_result"
    }
   ],
   "source": [
    "dataframe.describe()"
   ]
  },
  {
   "cell_type": "code",
   "execution_count": 126,
   "id": "de95b4de",
   "metadata": {},
   "outputs": [
    {
     "data": {
      "text/plain": [
       "YearsExperience        5.313333\n",
       "Salary             76003.000000\n",
       "dtype: float64"
      ]
     },
     "execution_count": 126,
     "metadata": {},
     "output_type": "execute_result"
    }
   ],
   "source": [
    "dataframe.mean() # Finds mean"
   ]
  },
  {
   "cell_type": "code",
   "execution_count": 133,
   "id": "a56da252",
   "metadata": {},
   "outputs": [
    {
     "data": {
      "text/html": [
       "<div>\n",
       "<style scoped>\n",
       "    .dataframe tbody tr th:only-of-type {\n",
       "        vertical-align: middle;\n",
       "    }\n",
       "\n",
       "    .dataframe tbody tr th {\n",
       "        vertical-align: top;\n",
       "    }\n",
       "\n",
       "    .dataframe thead th {\n",
       "        text-align: right;\n",
       "    }\n",
       "</style>\n",
       "<table border=\"1\" class=\"dataframe\">\n",
       "  <thead>\n",
       "    <tr style=\"text-align: right;\">\n",
       "      <th></th>\n",
       "      <th>YearsExperience</th>\n",
       "      <th>Salary</th>\n",
       "    </tr>\n",
       "  </thead>\n",
       "  <tbody>\n",
       "    <tr>\n",
       "      <th>YearsExperience</th>\n",
       "      <td>1.000000</td>\n",
       "      <td>0.978242</td>\n",
       "    </tr>\n",
       "    <tr>\n",
       "      <th>Salary</th>\n",
       "      <td>0.978242</td>\n",
       "      <td>1.000000</td>\n",
       "    </tr>\n",
       "  </tbody>\n",
       "</table>\n",
       "</div>"
      ],
      "text/plain": [
       "                 YearsExperience    Salary\n",
       "YearsExperience         1.000000  0.978242\n",
       "Salary                  0.978242  1.000000"
      ]
     },
     "execution_count": 133,
     "metadata": {},
     "output_type": "execute_result"
    }
   ],
   "source": [
    "dataframe.corr() #Find pairwise correlation of all columns in the dataframe"
   ]
  },
  {
   "cell_type": "code",
   "execution_count": 134,
   "id": "92e89fc2",
   "metadata": {},
   "outputs": [
    {
     "data": {
      "text/plain": [
       "YearsExperience    30\n",
       "Salary             30\n",
       "dtype: int64"
      ]
     },
     "execution_count": 134,
     "metadata": {},
     "output_type": "execute_result"
    }
   ],
   "source": [
    "dataframe.count() # Counts number of data in the dataframe"
   ]
  },
  {
   "cell_type": "code",
   "execution_count": 135,
   "id": "cf576239",
   "metadata": {},
   "outputs": [
    {
     "data": {
      "text/plain": [
       "YearsExperience        10.5\n",
       "Salary             122391.0\n",
       "dtype: float64"
      ]
     },
     "execution_count": 135,
     "metadata": {},
     "output_type": "execute_result"
    }
   ],
   "source": [
    "dataframe.max() # Finds the max value from the dataframe"
   ]
  },
  {
   "cell_type": "code",
   "execution_count": 136,
   "id": "5d9f47f7",
   "metadata": {},
   "outputs": [
    {
     "data": {
      "text/plain": [
       "YearsExperience        1.1\n",
       "Salary             37731.0\n",
       "dtype: float64"
      ]
     },
     "execution_count": 136,
     "metadata": {},
     "output_type": "execute_result"
    }
   ],
   "source": [
    "dataframe.min() # Finds the min value from the dataframe"
   ]
  },
  {
   "cell_type": "code",
   "execution_count": 137,
   "id": "40a9753c",
   "metadata": {},
   "outputs": [
    {
     "data": {
      "text/plain": [
       "YearsExperience        4.7\n",
       "Salary             65237.0\n",
       "dtype: float64"
      ]
     },
     "execution_count": 137,
     "metadata": {},
     "output_type": "execute_result"
    }
   ],
   "source": [
    "dataframe.median() # Finds the median value from the values in the dataframe"
   ]
  },
  {
   "cell_type": "code",
   "execution_count": 141,
   "id": "5902a123",
   "metadata": {},
   "outputs": [
    {
     "data": {
      "text/plain": [
       "YearsExperience        2.837888\n",
       "Salary             27414.429785\n",
       "dtype: float64"
      ]
     },
     "execution_count": 141,
     "metadata": {},
     "output_type": "execute_result"
    }
   ],
   "source": [
    "dataframe.std() # Finds the standard deviation value from the values in the dataframe"
   ]
  },
  {
   "cell_type": "code",
   "execution_count": null,
   "id": "03287cca",
   "metadata": {},
   "outputs": [],
   "source": []
  }
 ],
 "metadata": {
  "kernelspec": {
   "display_name": "Python 3 (ipykernel)",
   "language": "python",
   "name": "python3"
  },
  "language_info": {
   "codemirror_mode": {
    "name": "ipython",
    "version": 3
   },
   "file_extension": ".py",
   "mimetype": "text/x-python",
   "name": "python",
   "nbconvert_exporter": "python",
   "pygments_lexer": "ipython3",
   "version": "3.8.10"
  }
 },
 "nbformat": 4,
 "nbformat_minor": 5
}
