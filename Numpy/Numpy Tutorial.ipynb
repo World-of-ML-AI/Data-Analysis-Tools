{
 "cells": [
  {
   "cell_type": "markdown",
   "id": "0e5ec572",
   "metadata": {},
   "source": [
    "# Numpy Tutorial"
   ]
  },
  {
   "cell_type": "markdown",
   "id": "1229bd0b",
   "metadata": {},
   "source": [
    "## Import the Numpy Library"
   ]
  },
  {
   "cell_type": "code",
   "execution_count": 2,
   "id": "84f55ef9",
   "metadata": {},
   "outputs": [],
   "source": [
    "import numpy as np"
   ]
  },
  {
   "cell_type": "markdown",
   "id": "21ad8249",
   "metadata": {},
   "source": [
    "### Create a Numpy Array"
   ]
  },
  {
   "cell_type": "code",
   "execution_count": 11,
   "id": "3aff3806",
   "metadata": {},
   "outputs": [],
   "source": [
    "myArr = np.array([2, 3, 4, 5])"
   ]
  },
  {
   "cell_type": "code",
   "execution_count": 12,
   "id": "bfe74923",
   "metadata": {},
   "outputs": [
    {
     "data": {
      "text/plain": [
       "array([2, 3, 4, 5])"
      ]
     },
     "execution_count": 12,
     "metadata": {},
     "output_type": "execute_result"
    }
   ],
   "source": [
    "myArr"
   ]
  },
  {
   "cell_type": "markdown",
   "id": "54d08ba5",
   "metadata": {},
   "source": [
    "### Create an array that contains 8 bit integers only"
   ]
  },
  {
   "cell_type": "markdown",
   "id": "cf0505ee",
   "metadata": {},
   "source": [
    "***If you want more bits for your integer, just change the number from 8 to whatever you want like 32, 64 etc.***"
   ]
  },
  {
   "cell_type": "code",
   "execution_count": 7,
   "id": "919ea1e9",
   "metadata": {},
   "outputs": [],
   "source": [
    "myArr = np.array([2, 3, 4, 5], np.int8)"
   ]
  },
  {
   "cell_type": "code",
   "execution_count": 8,
   "id": "78be4e8f",
   "metadata": {},
   "outputs": [
    {
     "data": {
      "text/plain": [
       "array([2, 3, 4, 5], dtype=int8)"
      ]
     },
     "execution_count": 8,
     "metadata": {},
     "output_type": "execute_result"
    }
   ],
   "source": [
    "myArr"
   ]
  },
  {
   "cell_type": "markdown",
   "id": "df6305a2",
   "metadata": {},
   "source": [
    "### Create a Two Dimensional Array using numpy"
   ]
  },
  {
   "cell_type": "code",
   "execution_count": 13,
   "id": "3e0cc72d",
   "metadata": {},
   "outputs": [],
   "source": [
    "my2DArray = np.array([[1,2,3], [4,5,6], [7,8,9]])"
   ]
  },
  {
   "cell_type": "code",
   "execution_count": 14,
   "id": "d83c95c3",
   "metadata": {},
   "outputs": [
    {
     "data": {
      "text/plain": [
       "array([[1, 2, 3],\n",
       "       [4, 5, 6],\n",
       "       [7, 8, 9]])"
      ]
     },
     "execution_count": 14,
     "metadata": {},
     "output_type": "execute_result"
    }
   ],
   "source": [
    "my2DArray"
   ]
  },
  {
   "cell_type": "markdown",
   "id": "d6dc087e",
   "metadata": {},
   "source": [
    "### Access elements from the numpy array"
   ]
  },
  {
   "cell_type": "code",
   "execution_count": 15,
   "id": "89cabbd9",
   "metadata": {},
   "outputs": [
    {
     "name": "stdout",
     "output_type": "stream",
     "text": [
      "2\n"
     ]
    }
   ],
   "source": [
    "print(my2DArray[0, 1])"
   ]
  },
  {
   "cell_type": "markdown",
   "id": "6789b2b1",
   "metadata": {},
   "source": [
    "### Get the information about your array"
   ]
  },
  {
   "cell_type": "code",
   "execution_count": 19,
   "id": "daeba60a",
   "metadata": {},
   "outputs": [
    {
     "data": {
      "text/plain": [
       "(3, 3)"
      ]
     },
     "execution_count": 19,
     "metadata": {},
     "output_type": "execute_result"
    }
   ],
   "source": [
    "my2DArray.shape"
   ]
  },
  {
   "cell_type": "markdown",
   "id": "1f4853af",
   "metadata": {},
   "source": [
    "### Get the datatype"
   ]
  },
  {
   "cell_type": "code",
   "execution_count": 21,
   "id": "182113cc",
   "metadata": {},
   "outputs": [
    {
     "data": {
      "text/plain": [
       "dtype('int32')"
      ]
     },
     "execution_count": 21,
     "metadata": {},
     "output_type": "execute_result"
    }
   ],
   "source": [
    "my2DArray.dtype"
   ]
  },
  {
   "cell_type": "code",
   "execution_count": null,
   "id": "5910de73",
   "metadata": {},
   "outputs": [],
   "source": []
  }
 ],
 "metadata": {
  "kernelspec": {
   "display_name": "Python 3 (ipykernel)",
   "language": "python",
   "name": "python3"
  },
  "language_info": {
   "codemirror_mode": {
    "name": "ipython",
    "version": 3
   },
   "file_extension": ".py",
   "mimetype": "text/x-python",
   "name": "python",
   "nbconvert_exporter": "python",
   "pygments_lexer": "ipython3",
   "version": "3.8.10"
  }
 },
 "nbformat": 4,
 "nbformat_minor": 5
}
